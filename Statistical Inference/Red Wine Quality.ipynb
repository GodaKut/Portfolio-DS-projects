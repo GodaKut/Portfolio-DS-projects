{
 "cells": [
  {
   "cell_type": "markdown",
   "id": "b7360408-3012-42c0-81ab-eaa8ff077512",
   "metadata": {},
   "source": [
    "# Red Wine Quality project"
   ]
  },
  {
   "cell_type": "markdown",
   "id": "49ece302-7dac-4101-9f35-6230a5bf5bae",
   "metadata": {},
   "source": [
    "## Introduction"
   ]
  },
  {
   "cell_type": "markdown",
   "id": "7d483066-f7a0-46de-963d-63959088827c",
   "metadata": {},
   "source": [
    "### Content\n",
    "1. Notebook setup\n",
    "2. Dataset preparation\n",
    "    1. Data Cleaning\n",
    "        - Duplicate entries\n",
    "        - Missing values\n",
    "        - Outliers\n",
    "    2. General overview\n",
    "        - Sample sizes\n",
    "        - Feature distributions\n",
    "        - Feature correlations\n",
    "        - Feature relationship with quality\n",
    "           - Mean distribution across quality levels\n",
    "           - Value distributions across quality levels\n",
    "3. Goals\n",
    "4. Calculations\n",
    "    1. Positive impact\n",
    "        1. Independent variable: linear regression\n",
    "        2. Check for linear regression assumptions\n",
    "        3. Independent variable: Linear model performance on holdout data\n",
    "        4. Independent variable: Logistic regression\n",
    "        5. Logistic regression assumptions\n",
    "        6. Summary of independent variable impact on quality\n",
    "    2. Negative impact\n",
    "        1. Independent variable: linear regression\n",
    "        2. Check for linear regression assumptions\n",
    "        3. Independent variable: Linear model performance on holdout data\n",
    "        4. Independent variable: Logistic regression\n",
    "        5. Logistic regression assumptions\n",
    "        6. Summary of independent variable impact on quality\n",
    "5. Conclusions of analysis\n",
    "6. Suggestions for improvement\n",
    "\n",
    "\n",
    "\n",
    "</br>\n",
    "\n",
    "The dataset consists of the following features:</br>\n",
    "**Input variables:**\n",
    "1. fixed acidity - most acids involved with wine or fixed or nonvolatile (do not evaporate readily)\n",
    "2. volatile acidity - the amount of acetic acid in wine, which at too high of levels can lead to an unpleasant, vinegar taste\n",
    "3. citric acid - found in small quantities, citric acid can add 'freshness' and flavor to wines\n",
    "4. residual sugar - the amount of sugar remaining after fermentation stops, it's rare to find wines with less than 1 gram/liter and wines with greater than 45 grams/liter are considered sweet\n",
    "5. chlorides - the amount of salt in the wine\n",
    "6. free sulfur dioxide - the free form of SO2 exists in equilibrium between molecular SO2 (as a dissolved gas) and bisulfite ion; it prevents microbial growth and the oxidation of wine\n",
    "7. total sulfur dioxide - amount of free and bound forms of S02; in low concentrations, SO2 is mostly undetectable in wine, but at free SO2 concentrations over 50 ppm, SO2 becomes evident in the nose and taste of wine\n",
    "8. density - the density of water is close to that of water depending on the percent alcohol and sugar content\n",
    "9. pH - describes how acidic or basic a wine is on a scale from 0 (very acidic) to 14 (very basic); most wines are between 3-4 on the pH scale\n",
    "10. sulphates - a wine additive which can contribute to sulfur dioxide gas (S02) levels, which acts as an antimicrobial and antioxidant\n",
    "11. alcohol - the percent alcohol content of the wine\n",
    "\n",
    "**Output variable:**\n",
    "1. quality (score between 0 and 10)"
   ]
  },
  {
   "cell_type": "markdown",
   "id": "fa2a780e-9162-4be9-9212-1fd5ffe02d1a",
   "metadata": {},
   "source": [
    "## 1. Notebook setup"
   ]
  },
  {
   "cell_type": "code",
   "execution_count": 145,
   "id": "a8654ca9-0316-414e-9f12-2847a7457088",
   "metadata": {},
   "outputs": [],
   "source": [
    "import pandas as pd\n",
    "import numpy as np\n",
    "import matplotlib as mpl\n",
    "import matplotlib.pyplot as plt\n",
    "import scipy.stats as stats\n",
    "import statsmodels.api as sm\n",
    "import seaborn as sns\n",
    "from scipy import stats\n",
    "from sklearn.model_selection import train_test_split\n",
    "from statsmodels.stats.outliers_influence import (\n",
    "    variance_inflation_factor as VIF,\n",
    ")\n",
    "from statsmodels.tools.tools import add_constant\n",
    "from sklearn.metrics import mean_absolute_error, mean_squared_error, r2_score\n",
    "\n",
    "from tukey_fences import tukey_fences_method\n",
    "from handle_duplicates import handle_duplicates_method\n",
    "from linear_reg_assumptions import check_linear_reg_assumptions\n",
    "from logistic_reg_assumptions import check_logistic_reg_assumptions\n",
    "from Test_holdout import test_holdout_model"
   ]
  },
  {
   "cell_type": "code",
   "execution_count": 146,
   "id": "1fa6946a-fbae-4417-b7e0-cd0a5bf51920",
   "metadata": {},
   "outputs": [],
   "source": [
    "color_palette = {\n",
    "    \"wine\": \"#80033A\",\n",
    "    \"fixed acidity\": \"#D4352D\",\n",
    "    \"volatile acidity\": \"#E55921\",\n",
    "    \"citric acid\": \"#DDF748\",\n",
    "    \"residual sugar\": \"#DDBA9A\",\n",
    "    \"chlorides\": \"#37D693\",\n",
    "    \"free sulfur dioxide\": \"#D6B43E\",\n",
    "    \"total sulfur dioxide\": \"#C6D60D\",\n",
    "    \"density\": \"#FA7274\",\n",
    "    \"pH\": \"#B185E0\",\n",
    "    \"sulphates\": \"#0AD6C9\",\n",
    "    \"alcohol\": \"#D63069\",\n",
    "    \"quality\": \"#B0B0B0\",\n",
    "}\n",
    "\n",
    "wine_property_ranges = {\n",
    "    \"fixed acidity\": [4.0, 15.0],\n",
    "    \"volatile acidity\": [0.1, 1.5],\n",
    "    \"citric acid\": [0.0, 1.0],\n",
    "    \"residual sugar\": [0.9, 15.0],\n",
    "    \"chlorides\": [0.01, 0.2],\n",
    "    \"free sulfur dioxide\": [1.0, 72.0],\n",
    "    \"total sulfur dioxide\": [6.0, 289.0],\n",
    "    \"density\": [0.990, 1.004],\n",
    "    \"pH\": [2.8, 4.0],\n",
    "    \"sulphates\": [0.3, 2.0],\n",
    "    \"alcohol\": [8.0, 14.9],\n",
    "    \"quality\": [0, 10],\n",
    "}\n",
    "\n",
    "wine = pd.read_csv(\"winequality-red.csv\")"
   ]
  },
  {
   "cell_type": "code",
   "execution_count": 147,
   "id": "3ae4fbe7-3bf8-4236-8ca6-2cb262503272",
   "metadata": {},
   "outputs": [
    {
     "data": {
      "text/html": [
       "<div>\n",
       "<style scoped>\n",
       "    .dataframe tbody tr th:only-of-type {\n",
       "        vertical-align: middle;\n",
       "    }\n",
       "\n",
       "    .dataframe tbody tr th {\n",
       "        vertical-align: top;\n",
       "    }\n",
       "\n",
       "    .dataframe thead th {\n",
       "        text-align: right;\n",
       "    }\n",
       "</style>\n",
       "<table border=\"1\" class=\"dataframe\">\n",
       "  <thead>\n",
       "    <tr style=\"text-align: right;\">\n",
       "      <th></th>\n",
       "      <th>fixed acidity</th>\n",
       "      <th>volatile acidity</th>\n",
       "      <th>citric acid</th>\n",
       "      <th>residual sugar</th>\n",
       "      <th>chlorides</th>\n",
       "      <th>free sulfur dioxide</th>\n",
       "      <th>total sulfur dioxide</th>\n",
       "      <th>density</th>\n",
       "      <th>pH</th>\n",
       "      <th>sulphates</th>\n",
       "      <th>alcohol</th>\n",
       "      <th>quality</th>\n",
       "    </tr>\n",
       "  </thead>\n",
       "  <tbody>\n",
       "    <tr>\n",
       "      <th>0</th>\n",
       "      <td>7.4</td>\n",
       "      <td>0.70</td>\n",
       "      <td>0.00</td>\n",
       "      <td>1.9</td>\n",
       "      <td>0.076</td>\n",
       "      <td>11.0</td>\n",
       "      <td>34.0</td>\n",
       "      <td>0.9978</td>\n",
       "      <td>3.51</td>\n",
       "      <td>0.56</td>\n",
       "      <td>9.4</td>\n",
       "      <td>5</td>\n",
       "    </tr>\n",
       "    <tr>\n",
       "      <th>1</th>\n",
       "      <td>7.8</td>\n",
       "      <td>0.88</td>\n",
       "      <td>0.00</td>\n",
       "      <td>2.6</td>\n",
       "      <td>0.098</td>\n",
       "      <td>25.0</td>\n",
       "      <td>67.0</td>\n",
       "      <td>0.9968</td>\n",
       "      <td>3.20</td>\n",
       "      <td>0.68</td>\n",
       "      <td>9.8</td>\n",
       "      <td>5</td>\n",
       "    </tr>\n",
       "    <tr>\n",
       "      <th>2</th>\n",
       "      <td>7.8</td>\n",
       "      <td>0.76</td>\n",
       "      <td>0.04</td>\n",
       "      <td>2.3</td>\n",
       "      <td>0.092</td>\n",
       "      <td>15.0</td>\n",
       "      <td>54.0</td>\n",
       "      <td>0.9970</td>\n",
       "      <td>3.26</td>\n",
       "      <td>0.65</td>\n",
       "      <td>9.8</td>\n",
       "      <td>5</td>\n",
       "    </tr>\n",
       "    <tr>\n",
       "      <th>3</th>\n",
       "      <td>11.2</td>\n",
       "      <td>0.28</td>\n",
       "      <td>0.56</td>\n",
       "      <td>1.9</td>\n",
       "      <td>0.075</td>\n",
       "      <td>17.0</td>\n",
       "      <td>60.0</td>\n",
       "      <td>0.9980</td>\n",
       "      <td>3.16</td>\n",
       "      <td>0.58</td>\n",
       "      <td>9.8</td>\n",
       "      <td>6</td>\n",
       "    </tr>\n",
       "    <tr>\n",
       "      <th>4</th>\n",
       "      <td>7.4</td>\n",
       "      <td>0.70</td>\n",
       "      <td>0.00</td>\n",
       "      <td>1.9</td>\n",
       "      <td>0.076</td>\n",
       "      <td>11.0</td>\n",
       "      <td>34.0</td>\n",
       "      <td>0.9978</td>\n",
       "      <td>3.51</td>\n",
       "      <td>0.56</td>\n",
       "      <td>9.4</td>\n",
       "      <td>5</td>\n",
       "    </tr>\n",
       "  </tbody>\n",
       "</table>\n",
       "</div>"
      ],
      "text/plain": [
       "   fixed acidity  volatile acidity  citric acid  residual sugar  chlorides  \\\n",
       "0            7.4              0.70         0.00             1.9      0.076   \n",
       "1            7.8              0.88         0.00             2.6      0.098   \n",
       "2            7.8              0.76         0.04             2.3      0.092   \n",
       "3           11.2              0.28         0.56             1.9      0.075   \n",
       "4            7.4              0.70         0.00             1.9      0.076   \n",
       "\n",
       "   free sulfur dioxide  total sulfur dioxide  density    pH  sulphates  \\\n",
       "0                 11.0                  34.0   0.9978  3.51       0.56   \n",
       "1                 25.0                  67.0   0.9968  3.20       0.68   \n",
       "2                 15.0                  54.0   0.9970  3.26       0.65   \n",
       "3                 17.0                  60.0   0.9980  3.16       0.58   \n",
       "4                 11.0                  34.0   0.9978  3.51       0.56   \n",
       "\n",
       "   alcohol  quality  \n",
       "0      9.4        5  \n",
       "1      9.8        5  \n",
       "2      9.8        5  \n",
       "3      9.8        6  \n",
       "4      9.4        5  "
      ]
     },
     "execution_count": 147,
     "metadata": {},
     "output_type": "execute_result"
    }
   ],
   "source": [
    "wine.head()"
   ]
  },
  {
   "cell_type": "markdown",
   "id": "067f1237-8fe5-4201-a493-e2853d662331",
   "metadata": {},
   "source": [
    "## 2. Datset preparation"
   ]
  },
  {
   "cell_type": "markdown",
   "id": "9fc440de-47d7-412b-b9db-a42bd1ece875",
   "metadata": {},
   "source": [
    "### A. Data cleaning"
   ]
  },
  {
   "cell_type": "markdown",
   "id": "31b723a7-88f6-41ed-ab5c-bd1c84d4c8b5",
   "metadata": {},
   "source": [
    "#### Duplicate entries\n",
    "A total of 240 duplicated entries were found and deleted."
   ]
  },
  {
   "cell_type": "code",
   "execution_count": 148,
   "id": "ec3a9950-9c43-4626-af2d-e59674329daa",
   "metadata": {},
   "outputs": [
    {
     "name": "stdout",
     "output_type": "stream",
     "text": [
      "Found and deleted 240 duplicate(s).\n"
     ]
    }
   ],
   "source": [
    "print(handle_duplicates_method(wine))\n",
    "wine = wine.reset_index(drop=True)"
   ]
  },
  {
   "cell_type": "markdown",
   "id": "82ebe6a5-ec19-4a52-9f23-2b21a0734633",
   "metadata": {},
   "source": [
    "#### Missing data\n",
    "Missing data will be checked the following ways:\n",
    "1. If there are any missing values (NaN) in the dataset\n",
    "2. If there are any features that have values of 0\n",
    "\n",
    "As you can see below there are no missing values.</br>\n",
    "There is one feature 'Citric Acid' which has values of 0 however since it can range from 0 to 500 mg/L it is acceptable."
   ]
  },
  {
   "cell_type": "code",
   "execution_count": 149,
   "id": "c4d7f3bc-8e7a-418b-9852-38809bc0eee6",
   "metadata": {},
   "outputs": [
    {
     "name": "stdout",
     "output_type": "stream",
     "text": [
      " Are there missing values?\n",
      "fixed acidity           False\n",
      "volatile acidity        False\n",
      "citric acid             False\n",
      "residual sugar          False\n",
      "chlorides               False\n",
      "free sulfur dioxide     False\n",
      "total sulfur dioxide    False\n",
      "density                 False\n",
      "pH                      False\n",
      "sulphates               False\n",
      "alcohol                 False\n",
      "quality                 False\n",
      "dtype: bool\n",
      "\n",
      "\n",
      "The following features values include  0:\n",
      "citric acid\n"
     ]
    }
   ],
   "source": [
    "print(\n",
    "    f\"\"\" Are there missing values?\n",
    "{wine.isnull().any()}\\n\n",
    "\"\"\"\n",
    ")\n",
    "\n",
    "null_features = []\n",
    "\n",
    "for feature in wine.columns:\n",
    "    if (wine[feature] == 0).any():\n",
    "        null_features.append(feature)\n",
    "\n",
    "if null_features != []:\n",
    "    print(\n",
    "        f\"The following features values include  0:\\n{', '.join(null_features)}\"\n",
    "    )\n",
    "else:\n",
    "    print(\"There are no features with values including 0.\")"
   ]
  },
  {
   "cell_type": "markdown",
   "id": "92c71eed-60ef-42ff-9798-644cecae7241",
   "metadata": {},
   "source": [
    "#### Outliers\n",
    "The following table shows:\n",
    "* **Property range**: The range of acceptable values for a given property\n",
    "* **Number of outliers**: number of the outliers found by Tukey fence method\n",
    "* **Percentage of data loss**: the percentage of data loss if those outliers are to be removed\n",
    "* **Within property range**: if any of outliers are not within the ranges acceptable for the wine property the cell will have 'NO'\n",
    "* **Outliers out of range**: the number of outliers found by Tuckey fence method that are as well out of property range\n",
    "* **Data loss % of out of range outliers**: the percentage of data loss if those outliers are to be removed\n",
    "\n",
    "**Note:** \n",
    "If no outliers are detected only property range and number of outliers will be shown.</br>\n",
    "If outliers are found but they are within acceptable range the last 2 columns will be empty.</br>\n",
    "\n",
    "\n",
    "**Only the outliers that are NOT within the property range will be removed.**"
   ]
  },
  {
   "cell_type": "code",
   "execution_count": 150,
   "id": "e46ea248-6fe1-4437-b2b4-6c78c2d34a00",
   "metadata": {},
   "outputs": [
    {
     "data": {
      "text/html": [
       "<div>\n",
       "<style scoped>\n",
       "    .dataframe tbody tr th:only-of-type {\n",
       "        vertical-align: middle;\n",
       "    }\n",
       "\n",
       "    .dataframe tbody tr th {\n",
       "        vertical-align: top;\n",
       "    }\n",
       "\n",
       "    .dataframe thead th {\n",
       "        text-align: right;\n",
       "    }\n",
       "</style>\n",
       "<table border=\"1\" class=\"dataframe\">\n",
       "  <thead>\n",
       "    <tr style=\"text-align: right;\">\n",
       "      <th></th>\n",
       "      <th>Property range</th>\n",
       "      <th>Number of outliers</th>\n",
       "      <th>Percentage of data loss</th>\n",
       "      <th>Within property range</th>\n",
       "      <th>Outliers out of range</th>\n",
       "      <th>Data loss % of out of range outliers</th>\n",
       "    </tr>\n",
       "  </thead>\n",
       "  <tbody>\n",
       "    <tr>\n",
       "      <th>fixed acidity</th>\n",
       "      <td>[4.0, 15.0]</td>\n",
       "      <td>4</td>\n",
       "      <td>0.29 %</td>\n",
       "      <td>NO</td>\n",
       "      <td>4</td>\n",
       "      <td>0.29 %</td>\n",
       "    </tr>\n",
       "    <tr>\n",
       "      <th>volatile acidity</th>\n",
       "      <td>[0.1, 1.5]</td>\n",
       "      <td>1</td>\n",
       "      <td>0.07 %</td>\n",
       "      <td>NO</td>\n",
       "      <td>1</td>\n",
       "      <td>0.07 %</td>\n",
       "    </tr>\n",
       "    <tr>\n",
       "      <th>citric acid</th>\n",
       "      <td>[0.0, 1.0]</td>\n",
       "      <td>0</td>\n",
       "      <td></td>\n",
       "      <td></td>\n",
       "      <td></td>\n",
       "      <td></td>\n",
       "    </tr>\n",
       "    <tr>\n",
       "      <th>residual sugar</th>\n",
       "      <td>[0.9, 15.0]</td>\n",
       "      <td>70</td>\n",
       "      <td>5.15 %</td>\n",
       "      <td>NO</td>\n",
       "      <td>2</td>\n",
       "      <td>0.15 %</td>\n",
       "    </tr>\n",
       "    <tr>\n",
       "      <th>chlorides</th>\n",
       "      <td>[0.01, 0.2]</td>\n",
       "      <td>60</td>\n",
       "      <td>4.42 %</td>\n",
       "      <td>NO</td>\n",
       "      <td>37</td>\n",
       "      <td>2.72 %</td>\n",
       "    </tr>\n",
       "    <tr>\n",
       "      <th>free sulfur dioxide</th>\n",
       "      <td>[1.0, 72.0]</td>\n",
       "      <td>3</td>\n",
       "      <td>0.22 %</td>\n",
       "      <td>Yes</td>\n",
       "      <td></td>\n",
       "      <td></td>\n",
       "    </tr>\n",
       "    <tr>\n",
       "      <th>total sulfur dioxide</th>\n",
       "      <td>[6.0, 289.0]</td>\n",
       "      <td>2</td>\n",
       "      <td>0.15 %</td>\n",
       "      <td>Yes</td>\n",
       "      <td></td>\n",
       "      <td></td>\n",
       "    </tr>\n",
       "    <tr>\n",
       "      <th>density</th>\n",
       "      <td>[0.99, 1.004]</td>\n",
       "      <td>0</td>\n",
       "      <td></td>\n",
       "      <td></td>\n",
       "      <td></td>\n",
       "      <td></td>\n",
       "    </tr>\n",
       "    <tr>\n",
       "      <th>pH</th>\n",
       "      <td>[2.8, 4.0]</td>\n",
       "      <td>2</td>\n",
       "      <td>0.15 %</td>\n",
       "      <td>NO</td>\n",
       "      <td>2</td>\n",
       "      <td>0.15 %</td>\n",
       "    </tr>\n",
       "    <tr>\n",
       "      <th>sulphates</th>\n",
       "      <td>[0.3, 2.0]</td>\n",
       "      <td>15</td>\n",
       "      <td>1.1 %</td>\n",
       "      <td>Yes</td>\n",
       "      <td></td>\n",
       "      <td></td>\n",
       "    </tr>\n",
       "    <tr>\n",
       "      <th>alcohol</th>\n",
       "      <td>[8.0, 14.9]</td>\n",
       "      <td>0</td>\n",
       "      <td></td>\n",
       "      <td></td>\n",
       "      <td></td>\n",
       "      <td></td>\n",
       "    </tr>\n",
       "    <tr>\n",
       "      <th>quality</th>\n",
       "      <td>[0, 10]</td>\n",
       "      <td>0</td>\n",
       "      <td></td>\n",
       "      <td></td>\n",
       "      <td></td>\n",
       "      <td></td>\n",
       "    </tr>\n",
       "  </tbody>\n",
       "</table>\n",
       "</div>"
      ],
      "text/plain": [
       "                     Property range  Number of outliers  \\\n",
       "fixed acidity           [4.0, 15.0]                   4   \n",
       "volatile acidity         [0.1, 1.5]                   1   \n",
       "citric acid              [0.0, 1.0]                   0   \n",
       "residual sugar          [0.9, 15.0]                  70   \n",
       "chlorides               [0.01, 0.2]                  60   \n",
       "free sulfur dioxide     [1.0, 72.0]                   3   \n",
       "total sulfur dioxide   [6.0, 289.0]                   2   \n",
       "density               [0.99, 1.004]                   0   \n",
       "pH                       [2.8, 4.0]                   2   \n",
       "sulphates                [0.3, 2.0]                  15   \n",
       "alcohol                 [8.0, 14.9]                   0   \n",
       "quality                     [0, 10]                   0   \n",
       "\n",
       "                     Percentage of data loss Within property range  \\\n",
       "fixed acidity                         0.29 %                    NO   \n",
       "volatile acidity                      0.07 %                    NO   \n",
       "citric acid                                                          \n",
       "residual sugar                        5.15 %                    NO   \n",
       "chlorides                             4.42 %                    NO   \n",
       "free sulfur dioxide                   0.22 %                   Yes   \n",
       "total sulfur dioxide                  0.15 %                   Yes   \n",
       "density                                                              \n",
       "pH                                    0.15 %                    NO   \n",
       "sulphates                              1.1 %                   Yes   \n",
       "alcohol                                                              \n",
       "quality                                                              \n",
       "\n",
       "                     Outliers out of range  \\\n",
       "fixed acidity                            4   \n",
       "volatile acidity                         1   \n",
       "citric acid                                  \n",
       "residual sugar                           2   \n",
       "chlorides                               37   \n",
       "free sulfur dioxide                          \n",
       "total sulfur dioxide                         \n",
       "density                                      \n",
       "pH                                       2   \n",
       "sulphates                                    \n",
       "alcohol                                      \n",
       "quality                                      \n",
       "\n",
       "                     Data loss % of out of range outliers  \n",
       "fixed acidity                                      0.29 %  \n",
       "volatile acidity                                   0.07 %  \n",
       "citric acid                                                \n",
       "residual sugar                                     0.15 %  \n",
       "chlorides                                          2.72 %  \n",
       "free sulfur dioxide                                        \n",
       "total sulfur dioxide                                       \n",
       "density                                                    \n",
       "pH                                                 0.15 %  \n",
       "sulphates                                                  \n",
       "alcohol                                                    \n",
       "quality                                                    "
      ]
     },
     "execution_count": 150,
     "metadata": {},
     "output_type": "execute_result"
    }
   ],
   "source": [
    "outlier_data = {}\n",
    "out_to_drop = []\n",
    "for feature in wine.columns:\n",
    "    outliers, proc = tukey_fences_method(wine, feature)\n",
    "    range_pass = \"Yes\"\n",
    "    count_out_range = 0\n",
    "    for out_val in outliers:\n",
    "        if (\n",
    "            wine.loc[out_val, feature] < wine_property_ranges[feature][0]\n",
    "            or wine.loc[out_val, feature] > wine_property_ranges[feature][1]\n",
    "        ):\n",
    "            range_pass = \"NO\"\n",
    "            count_out_range += 1\n",
    "            out_to_drop.append(out_val)\n",
    "    out_of_range_proc = f\"{round(count_out_range*100/wine.shape[0],2)} %\"\n",
    "    len_out = len(outliers)\n",
    "    if len_out == 0:\n",
    "        range_pass = \"\"\n",
    "        proc = \"\"\n",
    "        count_out_range = \"\"\n",
    "        out_of_range_proc = \"\"\n",
    "    elif range_pass == \"Yes\":\n",
    "        count_out_range = \"\"\n",
    "        out_of_range_proc = \"\"\n",
    "    outlier_data[feature] = (\n",
    "        wine_property_ranges[feature],\n",
    "        len_out,\n",
    "        proc,\n",
    "        range_pass,\n",
    "        count_out_range,\n",
    "        out_of_range_proc,\n",
    "    )\n",
    "\n",
    "out_df = pd.DataFrame(\n",
    "    data=outlier_data.values(),\n",
    "    index=outlier_data.keys(),\n",
    "    columns=[\n",
    "        \"Property range\",\n",
    "        \"Number of outliers\",\n",
    "        \"Percentage of data loss\",\n",
    "        \"Within property range\",\n",
    "        \"Outliers out of range\",\n",
    "        \"Data loss % of out of range outliers\",\n",
    "    ],\n",
    ")\n",
    "\n",
    "\n",
    "wine = wine.drop(out_to_drop)\n",
    "\n",
    "out_df"
   ]
  },
  {
   "cell_type": "markdown",
   "id": "4fd00dfd-2ac2-45f2-806d-4505d1a67c41",
   "metadata": {},
   "source": [
    "### B. General Overview"
   ]
  },
  {
   "cell_type": "markdown",
   "id": "558d32fb-209e-47df-af95-ddeea0bef4da",
   "metadata": {},
   "source": [
    "#### Sample sizes\n",
    "\n",
    "There are recods on 1599 bottles of wine. The following table illustrates that there is uneven distribution of bottles per each quality."
   ]
  },
  {
   "cell_type": "code",
   "execution_count": 151,
   "id": "5ea66719-1f7b-4ce2-b237-098b55a0598b",
   "metadata": {},
   "outputs": [
    {
     "data": {
      "text/html": [
       "<div>\n",
       "<style scoped>\n",
       "    .dataframe tbody tr th:only-of-type {\n",
       "        vertical-align: middle;\n",
       "    }\n",
       "\n",
       "    .dataframe tbody tr th {\n",
       "        vertical-align: top;\n",
       "    }\n",
       "\n",
       "    .dataframe thead th {\n",
       "        text-align: right;\n",
       "    }\n",
       "</style>\n",
       "<table border=\"1\" class=\"dataframe\">\n",
       "  <thead>\n",
       "    <tr style=\"text-align: right;\">\n",
       "      <th></th>\n",
       "      <th>count</th>\n",
       "    </tr>\n",
       "    <tr>\n",
       "      <th>quality</th>\n",
       "      <th></th>\n",
       "    </tr>\n",
       "  </thead>\n",
       "  <tbody>\n",
       "    <tr>\n",
       "      <th>3</th>\n",
       "      <td>8</td>\n",
       "    </tr>\n",
       "    <tr>\n",
       "      <th>4</th>\n",
       "      <td>52</td>\n",
       "    </tr>\n",
       "    <tr>\n",
       "      <th>5</th>\n",
       "      <td>555</td>\n",
       "    </tr>\n",
       "    <tr>\n",
       "      <th>6</th>\n",
       "      <td>518</td>\n",
       "    </tr>\n",
       "    <tr>\n",
       "      <th>7</th>\n",
       "      <td>164</td>\n",
       "    </tr>\n",
       "    <tr>\n",
       "      <th>8</th>\n",
       "      <td>17</td>\n",
       "    </tr>\n",
       "  </tbody>\n",
       "</table>\n",
       "</div>"
      ],
      "text/plain": [
       "         count\n",
       "quality       \n",
       "3            8\n",
       "4           52\n",
       "5          555\n",
       "6          518\n",
       "7          164\n",
       "8           17"
      ]
     },
     "execution_count": 151,
     "metadata": {},
     "output_type": "execute_result"
    }
   ],
   "source": [
    "quality_counts = pd.DataFrame(wine.groupby(\"quality\").quality.value_counts())\n",
    "quality_counts"
   ]
  },
  {
   "cell_type": "markdown",
   "id": "480de57f-9758-4ae2-b92d-87bac4263229",
   "metadata": {},
   "source": [
    "##### Chi Square test\n",
    "We are conducting Chi-Squared test of independence to detect sample ratio mismatch (SRM).\n",
    "If we were to split the given dataset into good (above the rating of 5) and bad (equal or less than 5) wines, we will end up having 833 good and 716 bad wines. </br>\n",
    "According to Chi-Square test the p-value (0.002) is much smaller than the common significance level of 0.05. </br>\n",
    "This indicates that there is significant difference between the observed and expected sample sizes.</br>\n",
    "In other words, **the SRM it detected** and the difference in sample sizes of good and bad wine samples did not occur by chance.\n",
    "Unfortunately since data collection cannot be investigated here we will keep the data as it is.\n"
   ]
  },
  {
   "cell_type": "code",
   "execution_count": 152,
   "id": "f602687d-bcb0-4a68-9364-4f86bfa2b57b",
   "metadata": {},
   "outputs": [
    {
     "name": "stdout",
     "output_type": "stream",
     "text": [
      "Power_divergenceResult(statistic=5.36986301369863, pvalue=0.020487586487487545)\n"
     ]
    }
   ],
   "source": [
    "observed = [\n",
    "    wine[wine.quality <= 5].quality.count(),\n",
    "    wine[wine.quality > 5].quality.count(),\n",
    "]\n",
    "total_bottles = sum(observed)\n",
    "expected = [total_bottles / 2, total_bottles / 2]\n",
    "\n",
    "chi = stats.chisquare(observed, f_exp=expected)\n",
    "print(chi)"
   ]
  },
  {
   "cell_type": "code",
   "execution_count": 153,
   "id": "89157b83-9b6a-47dd-9bf9-67957839cd5a",
   "metadata": {},
   "outputs": [],
   "source": [
    "wine[\"quality_binary\"] = np.where(wine[\"quality\"] > 5, 1, 0)"
   ]
  },
  {
   "cell_type": "markdown",
   "id": "aeed9c56-af1e-4b46-aab5-186e60f2b903",
   "metadata": {},
   "source": [
    "#### Feature distributions\n",
    "Below you may see how the wine properties are distributed within acceptable ranges of a given properties. </br>\n",
    "\n",
    "The following 7 features out of the 12 seem to be close to be normally distributed:\n",
    "1. Fixed acidity\n",
    "2. Volatile acidity\n",
    "3. Chlorides\n",
    "4. Density\n",
    "5. pH\n",
    "6. Sulphates\n",
    "7. Quality"
   ]
  },
  {
   "cell_type": "code",
   "execution_count": 154,
   "id": "8d8748fe-03fc-447e-bb86-d7ccf6223284",
   "metadata": {},
   "outputs": [
    {
     "data": {
      "image/png": "[encoded data removed]",
      "text/plain": [
       "<Figure size 1400x800 with 12 Axes>"
      ]
     },
     "metadata": {},
     "output_type": "display_data"
    }
   ],
   "source": [
    "fig, ax = plt.subplots(4, 3, figsize=(14, 8))\n",
    "fig.tight_layout()\n",
    "plt.subplots_adjust(wspace=0.2, hspace=0.4)\n",
    "for i, feature in enumerate(wine.columns[:12]):\n",
    "    row = i // 3\n",
    "    col = i % 3\n",
    "    ax[row, col].hist(\n",
    "        wine.loc[:, f\"{feature}\"], color=color_palette[f\"{feature}\"]\n",
    "    )\n",
    "    ax[row, col].set_title(f\"{feature}\")"
   ]
  },
  {
   "cell_type": "markdown",
   "id": "f1afe010-8225-47e6-88e8-61b14e9b0fb3",
   "metadata": {},
   "source": [
    "#### Feature correlations\n",
    "Since all of the values of feature correlations are below 0.8 we might assume multicollinearity is not present. </br>\n",
    "\n",
    "**Strong** correlations are found between:\n",
    "* fixed acidity and citric acid (0.67)\n",
    "* fixed acidity and density  (0.67)\n",
    "* fixed acidity and ph are *negatively correlated* (-0.69)\n",
    "* total sulfur dioxide and free sulfur dioxide (0.67)\n",
    "\n",
    "Some of the correlations above could be explained:\n",
    "* Since citric acid is a part of fixed acidity of wine the correlation is justified here.\n",
    "* The lower PH value the more acidic the substance is thus the negative correlation between PH value and fixed acidity is as expected.\n",
    "* Total sulfur dioxide ($SO_2$) is an amount of free and bound forms of $SO_2$ thus the correlation is justified. </br> </br></br>\n",
    "\n",
    "\n",
    "\n",
    "**Moderate** correlations are found between:\n",
    "* citric acidity and volatile acidity (-0.55)\n",
    "* citric acidity and ph (-0.55)\n",
    "* alcohol and density (-0.5)\n",
    "* alcohol and quality are *positively correlated*  (0.48)\n",
    "\n",
    "**Quality** correlation with the following features stands out:\n",
    "* Positive:\n",
    "    * alcochol (0.49 - moderate)\n",
    "    * sulphites (0.31 - weak)\n",
    "    * citric acid (0.24 - weak)\n",
    "* Negative:\n",
    "    * volatile acidity (-0.39 - moderate)\n",
    "    * density (-0.19 - very weak)\n",
    "    * total sulfur dioxide (-0.18 - very weak)\n",
    "    * chlorides (-0.19 -  very weak) "
   ]
  },
  {
   "cell_type": "code",
   "execution_count": 155,
   "id": "887bfd4b-059a-4d96-b678-cbd9b2c9d0aa",
   "metadata": {},
   "outputs": [
    {
     "data": {
      "image/png": "[encoded data removed]",
      "text/plain": [
       "<Figure size 1000x800 with 2 Axes>"
      ]
     },
     "metadata": {},
     "output_type": "display_data"
    }
   ],
   "source": [
    "corr_matrix = wine.corr()\n",
    "plt.figure(figsize=(10, 8))\n",
    "mask = np.triu(np.ones_like(corr_matrix.iloc[:12, :12], dtype=bool))\n",
    "sns.heatmap(\n",
    "    corr_matrix.iloc[:12, :12],\n",
    "    mask=mask,\n",
    "    annot=True,\n",
    "    cmap=\"icefire\",\n",
    "    vmin=-1,\n",
    "    vmax=1,\n",
    "    center=0,\n",
    "    fmt=\".2f\",\n",
    "    linewidths=0.5,\n",
    ")\n",
    "plt.title(\"Correlation Matrix Heatmap\");"
   ]
  },
  {
   "cell_type": "markdown",
   "id": "cea1988f-00e7-4d76-ad68-1318e6c9bb96",
   "metadata": {},
   "source": [
    "#### Variance Inflation Factor (VIF)\n",
    "The multicollinearity analysis using VIF has prompted that:\n",
    "* Fixed acidity (VIF = 6.15) shows moderate to high multicollinearity, as it is above the typical threshold of 5.\n",
    "* Density (VIF = 6.09) is close to the threshold, indicating moderate multicollinearity, likely with other variables like fixed acidity.\n",
    "\n",
    "Due to this and the fact that Fixed acidity and Density are strongly correlated (0.67) the regression model should include only one of those features but not both of them. since density is more correlated with quality it will be investigated further instead of fixed acidity."
   ]
  },
  {
   "cell_type": "code",
   "execution_count": 156,
   "id": "c5fc0484-3823-4b9e-a586-cdd4ffdde306",
   "metadata": {},
   "outputs": [
    {
     "data": {
      "text/html": [
       "<div>\n",
       "<style scoped>\n",
       "    .dataframe tbody tr th:only-of-type {\n",
       "        vertical-align: middle;\n",
       "    }\n",
       "\n",
       "    .dataframe tbody tr th {\n",
       "        vertical-align: top;\n",
       "    }\n",
       "\n",
       "    .dataframe thead th {\n",
       "        text-align: right;\n",
       "    }\n",
       "</style>\n",
       "<table border=\"1\" class=\"dataframe\">\n",
       "  <thead>\n",
       "    <tr style=\"text-align: right;\">\n",
       "      <th></th>\n",
       "      <th>feature</th>\n",
       "      <th>VIF</th>\n",
       "    </tr>\n",
       "  </thead>\n",
       "  <tbody>\n",
       "    <tr>\n",
       "      <th>1</th>\n",
       "      <td>fixed acidity</td>\n",
       "      <td>6.15123</td>\n",
       "    </tr>\n",
       "    <tr>\n",
       "      <th>2</th>\n",
       "      <td>volatile acidity</td>\n",
       "      <td>1.42592</td>\n",
       "    </tr>\n",
       "    <tr>\n",
       "      <th>3</th>\n",
       "      <td>citric acid</td>\n",
       "      <td>1.13313</td>\n",
       "    </tr>\n",
       "    <tr>\n",
       "      <th>4</th>\n",
       "      <td>residual sugar</td>\n",
       "      <td>1.69888</td>\n",
       "    </tr>\n",
       "    <tr>\n",
       "      <th>5</th>\n",
       "      <td>chlorides</td>\n",
       "      <td>1.30464</td>\n",
       "    </tr>\n",
       "    <tr>\n",
       "      <th>6</th>\n",
       "      <td>free sulfur dioxide</td>\n",
       "      <td>2.25118</td>\n",
       "    </tr>\n",
       "    <tr>\n",
       "      <th>7</th>\n",
       "      <td>total sulfur dioxide</td>\n",
       "      <td>2.46980</td>\n",
       "    </tr>\n",
       "    <tr>\n",
       "      <th>8</th>\n",
       "      <td>density</td>\n",
       "      <td>6.08672</td>\n",
       "    </tr>\n",
       "    <tr>\n",
       "      <th>9</th>\n",
       "      <td>pH</td>\n",
       "      <td>2.95600</td>\n",
       "    </tr>\n",
       "    <tr>\n",
       "      <th>10</th>\n",
       "      <td>sulphates</td>\n",
       "      <td>1.43236</td>\n",
       "    </tr>\n",
       "    <tr>\n",
       "      <th>11</th>\n",
       "      <td>alcohol</td>\n",
       "      <td>2.96400</td>\n",
       "    </tr>\n",
       "    <tr>\n",
       "      <th>12</th>\n",
       "      <td>quality</td>\n",
       "      <td>3.25142</td>\n",
       "    </tr>\n",
       "    <tr>\n",
       "      <th>13</th>\n",
       "      <td>quality_binary</td>\n",
       "      <td>3.24208</td>\n",
       "    </tr>\n",
       "  </tbody>\n",
       "</table>\n",
       "</div>"
      ],
      "text/plain": [
       "                 feature      VIF\n",
       "1          fixed acidity  6.15123\n",
       "2       volatile acidity  1.42592\n",
       "3            citric acid  1.13313\n",
       "4         residual sugar  1.69888\n",
       "5              chlorides  1.30464\n",
       "6    free sulfur dioxide  2.25118\n",
       "7   total sulfur dioxide  2.46980\n",
       "8                density  6.08672\n",
       "9                     pH  2.95600\n",
       "10             sulphates  1.43236\n",
       "11               alcohol  2.96400\n",
       "12               quality  3.25142\n",
       "13        quality_binary  3.24208"
      ]
     },
     "execution_count": 156,
     "metadata": {},
     "output_type": "execute_result"
    }
   ],
   "source": [
    "wine_transformed = wine.map(lambda x: 1/x if x != 0 else 0)\n",
    "X = add_constant(wine_transformed)\n",
    "vif_data = pd.DataFrame()\n",
    "vif_data[\"feature\"] = X.columns\n",
    "vif_data[\"VIF\"] = [\n",
    "    \"{:.5f}\".format(VIF(X.values, i)) for i in range(X.shape[1])\n",
    "]\n",
    "VIF = pd.DataFrame(vif_data)\n",
    "VIF.iloc[1:, :]"
   ]
  },
  {
   "cell_type": "markdown",
   "id": "e1034ce6-8d5d-4833-8f36-f1f3d9d780fa",
   "metadata": {},
   "source": [
    "### Feature relationship with quality"
   ]
  },
  {
   "cell_type": "markdown",
   "id": "ff95ba3c-5814-49f3-a83a-f8312c5cc950",
   "metadata": {},
   "source": [
    "#### Mean distribution across quality levels\n",
    "\n",
    "* **Alcohol** percentage is the most positively correlated with the quality and when looking at the mean values of each quality rating we see as well that the higher the quality the higher the alcohol level. In addition the good quality wine as much higher percentage of alcohol compared to poor quality wine. \n",
    "* **Citric acid** and **Sulphates** despite having weak positive correlation both exibit distinct increasing mean value for every quality rating.\n",
    "</br>\n",
    "\n",
    "</br>\n",
    "\n",
    "* **Volatile acidity** is the most negatively correlated with quality and the trend remains for the mean Volatile acidity values for the quality rating. Here as well good and poor wine quality levels have a clear distinction.\n",
    "* Both **Chlorides** and **Desnsity** are very weakly correlated however we see that from quality level 5 the means are distinctly lower for each increase in wine quality rating. Chlorides mean values for quality ratings however exhibit more clear distinction between good and poor quality wine than Density mean values.\n",
    "* **Total sulfur dioxide** despite having the same correlation value as chlorides has different mean quality value pattern. Here we see a sharp spike for the quality level of 5. In addition good quality wine means are of similar values like the mean value of wine of quality 4. It might be difficult to draw insights regarding good and poor quality wine or overall influence on wine quality when considering only total sulfur dioxide thus we will look more into the 6 features mentioned above instead. \n",
    "\n",
    "Other features means for quality rating do not show a distinct pattern and the difference between good and poor quality wine is not that clearly evident."
   ]
  },
  {
   "cell_type": "code",
   "execution_count": 157,
   "id": "4fbd1a6d-16fa-49c3-95c6-4a607cf5719e",
   "metadata": {},
   "outputs": [
    {
     "data": {
      "image/png": "[encoded data removed]",
      "text/plain": [
       "<Figure size 1500x1200 with 11 Axes>"
      ]
     },
     "metadata": {},
     "output_type": "display_data"
    }
   ],
   "source": [
    "mean_features_by_quality = wine.groupby(\"quality\").mean().reset_index()\n",
    "\n",
    "plt.figure(figsize=(15, 12))\n",
    "plt.subplots_adjust(wspace=0.2, hspace=0.4)\n",
    "\n",
    "for i, feature in enumerate(wine.columns[:11]):\n",
    "    plt.subplot(4, 3, i + 1)\n",
    "    sns.lineplot(\n",
    "        data=mean_features_by_quality,\n",
    "        x=\"quality\",\n",
    "        y=feature,\n",
    "        marker=\"o\",\n",
    "        color=color_palette[f\"{feature}\"],\n",
    "    )\n",
    "    plt.title(f\"Mean {feature.upper()} by Quality\")\n",
    "    plt.xlabel(\"\")\n",
    "    plt.ylabel(\"\")"
   ]
  },
  {
   "cell_type": "markdown",
   "id": "098db71a-da2b-4e4a-a624-e101fd5c4f8d",
   "metadata": {},
   "source": [
    "#### Value distributions across different quality values"
   ]
  },
  {
   "cell_type": "markdown",
   "id": "64c5682f-6b0b-4540-a9a8-063ff7e1cff9",
   "metadata": {},
   "source": [
    "If we were to look at the interquartile ranges (IQR) of the boxplots of the given features, alcohol and sulphites have much clearer distinction between quality ratings than citric acid. In addition both of them have higher maximum values for good quality wines than poor quality wines.\n",
    "\n",
    "Volatile acidity IQR as well support the trend observed that the lower values of it are more common for the good quality wine. However density and clorides IQR do not exhibit such behavior which is as expected since they are very weakly negatively correlated.\n",
    "\n",
    "Each plot as well demonstrated acceptable ranges of the wine properties. You may notice that Residual Sugar, Total Sulfur Dioxide, Free Sulfur Dioxide and Sulphates values are all mostly in lower half of the respected acceptable ranges. "
   ]
  },
  {
   "cell_type": "code",
   "execution_count": 158,
   "id": "763fdb99-0279-4046-9cbf-7beef02a8b33",
   "metadata": {},
   "outputs": [
    {
     "data": {
      "image/png": "[encoded data removed]",
      "text/plain": [
       "<Figure size 1500x1200 with 12 Axes>"
      ]
     },
     "metadata": {},
     "output_type": "display_data"
    }
   ],
   "source": [
    "plt.figure(figsize=(15, 12))\n",
    "plt.subplots_adjust(wspace=0.2, hspace=0.4)\n",
    "for i, feature in enumerate(wine.columns[:11]):\n",
    "    plt.subplot(4, 3, i + 1)\n",
    "    plt.axhline(\n",
    "        y=wine_property_ranges[feature][0],\n",
    "        color=color_palette[f\"{feature}\"],\n",
    "        linestyle=\"-\",\n",
    "        label=f\"{feature} acceptable range\",\n",
    "    )\n",
    "    plt.axhline(\n",
    "        y=wine_property_ranges[feature][1],\n",
    "        color=color_palette[f\"{feature}\"],\n",
    "        linestyle=\"-\",\n",
    "    )\n",
    "    sns.boxplot(\n",
    "        data=wine,\n",
    "        x=\"quality\",\n",
    "        y=feature,\n",
    "        showfliers=False,\n",
    "        color=color_palette[f\"{feature}\"],\n",
    "        legend=False,\n",
    "    )\n",
    "    plt.title(f\"Box Plot: {feature.upper()} by Quality\")\n",
    "    plt.xlabel(\"\")\n",
    "    plt.ylabel(\"\")\n",
    "\n",
    "plt.subplot(4, 3, 12)\n",
    "plt.axis(\"off\")\n",
    "handles = []\n",
    "labels = []\n",
    "for feature in wine.columns[:11]:\n",
    "    handle = plt.Line2D(\n",
    "        [0, 1], [0, 1], color=color_palette[f\"{feature}\"], linestyle=\"-\"\n",
    "    )\n",
    "    handles.append(handle)\n",
    "    labels.append(f\"{feature} acceptable range\")\n",
    "\n",
    "plt.legend(handles, labels, loc=\"center\", fontsize=\"medium\", ncol=1);"
   ]
  },
  {
   "cell_type": "markdown",
   "id": "daa4f4ec-777b-4836-a33a-164c51adbc2d",
   "metadata": {},
   "source": [
    "##### Split the data\n",
    "\n",
    "Her we putting 20% of data on a hold out. The remaing calculations will be done mainly on the 80% of the data which is 1087 records."
   ]
  },
  {
   "cell_type": "code",
   "execution_count": 159,
   "id": "c61b2f56-bc7c-4759-9590-260a8c43a13c",
   "metadata": {},
   "outputs": [
    {
     "name": "stdout",
     "output_type": "stream",
     "text": [
      "The dataframe has been split to:\n",
      "    Training data: 1051 records\n",
      "    Hold out data: 263 records\n"
     ]
    }
   ],
   "source": [
    "train_df, holdout_df = train_test_split(\n",
    "    wine, test_size=0.2, stratify=wine[\"quality\"], random_state=42\n",
    ")\n",
    "print(\n",
    "    f\"\"\"The dataframe has been split to:\n",
    "    Training data: {train_df.shape[0]} records\n",
    "    Hold out data: {holdout_df.shape[0]} records\"\"\"\n",
    ")"
   ]
  },
  {
   "cell_type": "markdown",
   "id": "41ae94cc-ab7e-4b95-803a-8bf78a179463",
   "metadata": {},
   "source": [
    "## 3. Goals"
   ]
  },
  {
   "cell_type": "markdown",
   "id": "c2996827-8222-4a7e-a45d-2bdd54e5a153",
   "metadata": {},
   "source": [
    "The objective is to determine if:\n",
    "1. alcohol, citric acid and sulphates are in fact positively affecting wine quality\n",
    "2. volatile acidity, density and chlorides are negatively affecting wine quality\n",
    "\n",
    "These 2 objectives will be checked both in terms of the quality ratings and if they help differentiate good and poor quality wine.\n",
    "\n",
    "To achieve the objectives set the following hypothesis needs to be proven to be true of false:\n",
    "1. *Positive* influence on the wine quality:\n",
    "    1. $H_0$: **alcohol** percentage of wine has NO impact on perceived wine quality</br>\n",
    "       $H_A$: *alcohol* percentage of wine has a POSITIVE impact on perceived wine quality\n",
    "    2. $H_0$: **citric acid** percentage of wine has NO impact on perceived wine quality</br>\n",
    "       $H_A$: *citric acid* percentage of wine has a POSITIVE impact on perceived wine quality\n",
    "    3. $H_0$: **sulphates** percentage of wine has NO impact on perceived wine quality</br>\n",
    "       $H_A$: *sulphates* percentage of wine has a POSITIVE impact on perceived wine quality</br>\n",
    "3. *Negative* influence on the wine quality:\n",
    "    1. $H_0$: **volatile acidity** percentage of wine has NO impact on perceived wine quality</br>\n",
    "       $H_A$: *volatile acidity* percentage of wine has a NEGATIVE impact on perceived wine quality\n",
    "    2. $H_0$: **density percentage** of wine has NO impact on perceived wine quality</br>\n",
    "       $H_A$: *denaisty percentage* of wine has a NEGATIVE impact on perceived wine quality\n",
    "    3. $H_0$: **clorides percentage** of wine has NO impact on perceived wine quality</br>\n",
    "       $H_A$: *clorides percentage* of wine has a NEGATIVE impact on perceived wine quality"
   ]
  },
  {
   "cell_type": "markdown",
   "id": "c8327fdc-a28a-42e9-8cd9-79a2f3859e65",
   "metadata": {},
   "source": [
    "## 4. Calculations\n",
    "\n",
    "Each feature will go through the following calculations:\n",
    "* Feature fit to a linear regression\n",
    "* Check for linear regression assumptions of the model:\n",
    "     1.  **Linear relationship** - Harvey-Collier Test: This test specifically checks for the presence of non-linearity in the relationship between the dependent and independent variables. If p-value greater than the significance level of 0.05 let us safely assume that the relationship between independent variables and the dependent variable is indeed linear.\n",
    "     2.  **Heteroscedasticity** - Breusch-Pagan Test: If the p-value is below significance level of 0.05, it indicates that heteroscedasticity is present, meaning the variance of the errors is not constant.\n",
    "     3.  **Independence of observations** - Durbin-Watson Test: Since the residuals should be independent of each other no autocorrelation should be found. A value close to 2 suggests that the residuals are not autocorrelated. Significant deviations from 2 indicate the presence of autocorrelation.\n",
    "     4.  **Multivariate Normality** - Kolmogorov-Smirnov test: If the p-value greater than significance level of 0.05, there is no strong evidence to suggest that the residuals deviate significantly from a normal distribution\n",
    "* The above mentioned linear model performance on holdout data\n",
    "* Feature fit to a logistic regression\n",
    "* Check for logistic regression assumptions\n",
    "    1. **Independence of observations** - Durbin-Watson Test: Residuals should be independent and not autocorrelation in the logistic regression as well thus performing same test for logistic regression.\n",
    "    2. **Perfect separation Test**:\tLogistic regression assumes that there is no perfect separation of the data, meaning that the independent variables should not perfectly predict the outcome. If perfect separation is detected estimates can be unreliable. It is detected by looking if any coefficients are infinite.\n",
    "    3.  **Linearity of Independent Variables and Logit** - Box-Tidwell Test: Since logistic regression assumes linearity of independent variables and logit(log odds) of the dependent variable unlike linear regression assumption of the dependent and independent variables to be related linearly, Box-Tidwell test is performed instead of Harvey-Collier test. If the p-value associated with the interaction term (X * log(X)) is less than significance level of 0.05, this suggests that the linearity assumption is violated.\n",
    "* Summary of feature impact on quality will summarize the results of calculations done and state the grounds to either reject or confirm the $H_0$ hypothesis\n"
   ]
  },
  {
   "cell_type": "markdown",
   "id": "90eb2822-9b71-4b3c-b638-2b7f2ee78269",
   "metadata": {},
   "source": [
    "### A. Possitive impact"
   ]
  },
  {
   "cell_type": "markdown",
   "id": "eb24969b-7c3c-4194-8653-310454eccafc",
   "metadata": {},
   "source": [
    "### A.1 Alcohol"
   ]
  },
  {
   "cell_type": "markdown",
   "id": "52ddaefc-5063-4146-8f6c-5e510021a3a8",
   "metadata": {},
   "source": [
    "#### a. Alcohol: linear regression\n",
    "The following information of the linear regression informs that:\n",
    "* **Slope cooefficient is 0.3713** meaning alcohol percentage increase has a positive effect on the wine quality\n",
    "* **Slope coeficient P>|t| (p-value) is higher than 0.05** meaning coeficient is statistically significantly different than 0 thus relationship between alcohol and quality is statistically significant.\n",
    "* **The 95% confidence interval for the coefficient is [0.331, 0.412]** meaning true coefficient lies in a range which does not include 0 as well.\n",
    "* **R-squared (R²) is 0.238** meaning that 23.8% of the variance in the quality is explained by the model which includes only alcohol. "
   ]
  },
  {
   "cell_type": "code",
   "execution_count": 160,
   "id": "d1b8e782-7188-43a7-b0fe-b4319f4f832b",
   "metadata": {},
   "outputs": [
    {
     "name": "stdout",
     "output_type": "stream",
     "text": [
      "                            OLS Regression Results                            \n",
      "==============================================================================\n",
      "Dep. Variable:                      y   R-squared:                       0.238\n",
      "Model:                            OLS   Adj. R-squared:                  0.237\n",
      "Method:                 Least Squares   F-statistic:                     327.6\n",
      "Date:                Thu, 05 Sep 2024   Prob (F-statistic):           6.13e-64\n",
      "Time:                        16:20:50   Log-Likelihood:                -1142.7\n",
      "No. Observations:                1051   AIC:                             2289.\n",
      "Df Residuals:                    1049   BIC:                             2299.\n",
      "Df Model:                           1                                         \n",
      "Covariance Type:            nonrobust                                         \n",
      "==============================================================================\n",
      "                 coef    std err          t      P>|t|      [0.025      0.975]\n",
      "------------------------------------------------------------------------------\n",
      "const          1.7555      0.215      8.154      0.000       1.333       2.178\n",
      "x1             0.3713      0.021     18.101      0.000       0.331       0.412\n",
      "==============================================================================\n",
      "Omnibus:                       22.440   Durbin-Watson:                   2.014\n",
      "Prob(Omnibus):                  0.000   Jarque-Bera (JB):               39.777\n",
      "Skew:                          -0.128   Prob(JB):                     2.30e-09\n",
      "Kurtosis:                       3.918   Cond. No.                         103.\n",
      "==============================================================================\n",
      "\n",
      "Notes:\n",
      "[1] Standard Errors assume that the covariance matrix of the errors is correctly specified.\n"
     ]
    }
   ],
   "source": [
    "x_train_alco = train_df[\"alcohol\"].values.reshape(-1, 1)\n",
    "y_train_quality = train_df[\"quality\"].values\n",
    "x_train_alco_with_const = sm.add_constant(x_train_alco)\n",
    "model_alco = sm.OLS(y_train_quality, x_train_alco_with_const)\n",
    "\n",
    "results_alco = model_alco.fit()\n",
    "print(results_alco.summary())"
   ]
  },
  {
   "cell_type": "markdown",
   "id": "a178ba30-8511-4a8c-87e5-a21e859b5678",
   "metadata": {},
   "source": [
    "#### b. Check for linear regression assumptions"
   ]
  },
  {
   "cell_type": "markdown",
   "id": "2959bc13-b526-4f38-bf04-c6d7d002c799",
   "metadata": {},
   "source": [
    "Only 2 out of the 4 linear regression assumptions passes. </br>\n",
    "Alcohol and quality does seem to form a linear relationship and the independence of observations is proven by autocorrelation not being present between residuals. </br>\n",
    "However the variance of errors is not constant and residuals are not normally distributed."
   ]
  },
  {
   "cell_type": "code",
   "execution_count": 161,
   "id": "ca6451e9-1a20-439f-bc79-ce139173f21a",
   "metadata": {},
   "outputs": [
    {
     "data": {
      "text/html": [
       "<div>\n",
       "<style scoped>\n",
       "    .dataframe tbody tr th:only-of-type {\n",
       "        vertical-align: middle;\n",
       "    }\n",
       "\n",
       "    .dataframe tbody tr th {\n",
       "        vertical-align: top;\n",
       "    }\n",
       "\n",
       "    .dataframe thead th {\n",
       "        text-align: right;\n",
       "    }\n",
       "</style>\n",
       "<table border=\"1\" class=\"dataframe\">\n",
       "  <thead>\n",
       "    <tr style=\"text-align: right;\">\n",
       "      <th></th>\n",
       "      <th>Statistic</th>\n",
       "      <th>p-value</th>\n",
       "      <th>Result</th>\n",
       "      <th>Assumption passed</th>\n",
       "    </tr>\n",
       "    <tr>\n",
       "      <th>Tests</th>\n",
       "      <th></th>\n",
       "      <th></th>\n",
       "      <th></th>\n",
       "      <th></th>\n",
       "    </tr>\n",
       "  </thead>\n",
       "  <tbody>\n",
       "    <tr>\n",
       "      <th>Harvey-Collier Test:</th>\n",
       "      <td>1.035870</td>\n",
       "      <td>0.343381</td>\n",
       "      <td>Relationship is linear</td>\n",
       "      <td>Pass</td>\n",
       "    </tr>\n",
       "    <tr>\n",
       "      <th>Breusch-Pagan Test: LM</th>\n",
       "      <td>18.863336</td>\n",
       "      <td>0.000014</td>\n",
       "      <td>Heteroscedasticity found</td>\n",
       "      <td>Fail</td>\n",
       "    </tr>\n",
       "    <tr>\n",
       "      <th>Breusch-Pagan Test: F</th>\n",
       "      <td>19.171530</td>\n",
       "      <td>0.000013</td>\n",
       "      <td>Heteroscedasticity found</td>\n",
       "      <td>Fail</td>\n",
       "    </tr>\n",
       "    <tr>\n",
       "      <th>Durbin-Watson Test:</th>\n",
       "      <td>2.013834</td>\n",
       "      <td></td>\n",
       "      <td>Autocorrelation not found</td>\n",
       "      <td>Pass</td>\n",
       "    </tr>\n",
       "    <tr>\n",
       "      <th>Kolmogorov-Smirnov Test:</th>\n",
       "      <td>0.106107</td>\n",
       "      <td>0.0</td>\n",
       "      <td>Residuals are non-normally distributed</td>\n",
       "      <td>Fail</td>\n",
       "    </tr>\n",
       "  </tbody>\n",
       "</table>\n",
       "</div>"
      ],
      "text/plain": [
       "                          Statistic   p-value  \\\n",
       "Tests                                           \n",
       "Harvey-Collier Test:       1.035870  0.343381   \n",
       "Breusch-Pagan Test: LM    18.863336  0.000014   \n",
       "Breusch-Pagan Test: F     19.171530  0.000013   \n",
       "Durbin-Watson Test:        2.013834             \n",
       "Kolmogorov-Smirnov Test:   0.106107       0.0   \n",
       "\n",
       "                                                          Result  \\\n",
       "Tests                                                              \n",
       "Harvey-Collier Test:                      Relationship is linear   \n",
       "Breusch-Pagan Test: LM                  Heteroscedasticity found   \n",
       "Breusch-Pagan Test: F                   Heteroscedasticity found   \n",
       "Durbin-Watson Test:                    Autocorrelation not found   \n",
       "Kolmogorov-Smirnov Test:  Residuals are non-normally distributed   \n",
       "\n",
       "                         Assumption passed  \n",
       "Tests                                       \n",
       "Harvey-Collier Test:                  Pass  \n",
       "Breusch-Pagan Test: LM                Fail  \n",
       "Breusch-Pagan Test: F                 Fail  \n",
       "Durbin-Watson Test:                   Pass  \n",
       "Kolmogorov-Smirnov Test:              Fail  "
      ]
     },
     "execution_count": 161,
     "metadata": {},
     "output_type": "execute_result"
    }
   ],
   "source": [
    "df = check_linear_reg_assumptions(results_alco)\n",
    "df"
   ]
  },
  {
   "cell_type": "markdown",
   "id": "56865daa-7165-4105-9a7f-f11d1f2b1edc",
   "metadata": {},
   "source": [
    "#### c. Alcohol: Linear model performance on holdout data\n",
    "* **Mean Absolute Error (MAE):** average magnitude of errors between the predicted values and the actual values seems to be similar when using either training or test data. A slightly better score of holdout data suggest model is generalizing well and is not overfitting the training data\n",
    "* **Mean Squared Error (MSE):** Lower MSE score on holdout data proves as well that model performs well on unseen data.\n",
    "* **Root Mean Squared Error (RMSE):** Lower RMSE score on holdout data again proves that model performs well on unseen data.\n",
    "* **R-squared (R²):** Surprisingly even better explanation (1.5% better) of quality variance is seen once the holdout data is being used.\n",
    "\n",
    "Overall we may conclude that the linear regression model using alcohol performs very well on the unseen data, not overfitting the training data and generalizing well. The model is capable to explain 23.8% - 25.3% of quality valiance is quite good result as well."
   ]
  },
  {
   "cell_type": "code",
   "execution_count": 162,
   "id": "83f0784a-bcc1-4995-a1f4-8fa2be47fc20",
   "metadata": {},
   "outputs": [
    {
     "data": {
      "text/html": [
       "<div>\n",
       "<style scoped>\n",
       "    .dataframe tbody tr th:only-of-type {\n",
       "        vertical-align: middle;\n",
       "    }\n",
       "\n",
       "    .dataframe tbody tr th {\n",
       "        vertical-align: top;\n",
       "    }\n",
       "\n",
       "    .dataframe thead th {\n",
       "        text-align: right;\n",
       "    }\n",
       "</style>\n",
       "<table border=\"1\" class=\"dataframe\">\n",
       "  <thead>\n",
       "    <tr style=\"text-align: right;\">\n",
       "      <th></th>\n",
       "      <th>Training data</th>\n",
       "      <th>Holdout data</th>\n",
       "    </tr>\n",
       "  </thead>\n",
       "  <tbody>\n",
       "    <tr>\n",
       "      <th>Mean Absolute Error (MAE)</th>\n",
       "      <td>0.563384</td>\n",
       "      <td>0.555781</td>\n",
       "    </tr>\n",
       "    <tr>\n",
       "      <th>Mean Squared Error (MSE)</th>\n",
       "      <td>0.515128</td>\n",
       "      <td>0.503629</td>\n",
       "    </tr>\n",
       "    <tr>\n",
       "      <th>Root Mean Squared Error (RMSE)</th>\n",
       "      <td>0.717724</td>\n",
       "      <td>0.709668</td>\n",
       "    </tr>\n",
       "    <tr>\n",
       "      <th>R-squared (R²)</th>\n",
       "      <td>0.238000</td>\n",
       "      <td>0.253706</td>\n",
       "    </tr>\n",
       "  </tbody>\n",
       "</table>\n",
       "</div>"
      ],
      "text/plain": [
       "                                Training data  Holdout data\n",
       "Mean Absolute Error (MAE)            0.563384      0.555781\n",
       "Mean Squared Error (MSE)             0.515128      0.503629\n",
       "Root Mean Squared Error (RMSE)       0.717724      0.709668\n",
       "R-squared (R²)                       0.238000      0.253706"
      ]
     },
     "execution_count": 162,
     "metadata": {},
     "output_type": "execute_result"
    }
   ],
   "source": [
    "df = test_holdout_model(\n",
    "    \"alcohol\",\n",
    "    results_alco,\n",
    "    x_train_alco_with_const,\n",
    "    y_train_quality,\n",
    "    holdout_df,\n",
    ")\n",
    "df"
   ]
  },
  {
   "cell_type": "markdown",
   "id": "39ec8bac-95ce-4fe3-9919-9dce59cd6528",
   "metadata": {},
   "source": [
    "#### d. Alcohol: Logistic regression\n",
    "The logistic regression provides the following summary:\n",
    "* **The x1 coefficient** is 1.096 suggesting that increasing alcohol percentage increases odds that wine will be classified as good quality\n",
    "* **95% confidence interval** is [0.934, 1.258] which does not include 0 making the alcohol influence on quality statistically significant\n",
    "* **Pseudo R-squ.:** The value of 0.1686 suggest that logistic regression explains 16.86% (moderate amount) of quality variance.\n",
    "* **Log-Likelihood and LL-Null difference** value 122.46 suggests that model having alcohol predictor is significantly better at fitting the data than a model with no predictors."
   ]
  },
  {
   "cell_type": "code",
   "execution_count": 163,
   "id": "eae00522-771c-47e9-863b-a5d47b5b7541",
   "metadata": {},
   "outputs": [
    {
     "name": "stdout",
     "output_type": "stream",
     "text": [
      "Optimization terminated successfully.\n",
      "         Current function value: 0.574595\n",
      "         Iterations 6\n",
      "                           Logit Regression Results                           \n",
      "==============================================================================\n",
      "Dep. Variable:                      y   No. Observations:                 1051\n",
      "Model:                          Logit   Df Residuals:                     1049\n",
      "Method:                           MLE   Df Model:                            1\n",
      "Date:                Thu, 05 Sep 2024   Pseudo R-squ.:                  0.1686\n",
      "Time:                        16:20:50   Log-Likelihood:                -603.90\n",
      "converged:                       True   LL-Null:                       -726.36\n",
      "Covariance Type:            nonrobust   LLR p-value:                 3.323e-55\n",
      "==============================================================================\n",
      "                 coef    std err          z      P>|z|      [0.025      0.975]\n",
      "------------------------------------------------------------------------------\n",
      "const        -11.2062      0.851    -13.172      0.000     -12.874      -9.539\n",
      "x1             1.0960      0.083     13.221      0.000       0.934       1.258\n",
      "==============================================================================\n"
     ]
    }
   ],
   "source": [
    "y_train_quality_binary = train_df[\"quality_binary\"].values\n",
    "logit_model_alco = sm.Logit(y_train_quality_binary, x_train_alco_with_const)\n",
    "Log_result_alco = logit_model_alco.fit()\n",
    "print(Log_result_alco.summary());"
   ]
  },
  {
   "cell_type": "markdown",
   "id": "d39320d7-de80-4c05-a5f3-2f18b3d8e72e",
   "metadata": {},
   "source": [
    "#### e. Logistic regression assumptions\n",
    "All logistic regression assumption passes. Observations are independent since autocorrelation is not found, perfect separation is not detected and the relationship between alcohol and logit of quality is linear. </br>\n"
   ]
  },
  {
   "cell_type": "code",
   "execution_count": 164,
   "id": "a20fb07d-5b05-47e5-a547-67780e154eb7",
   "metadata": {},
   "outputs": [
    {
     "name": "stdout",
     "output_type": "stream",
     "text": [
      "Optimization terminated successfully.\n",
      "         Current function value: 0.573315\n",
      "         Iterations 7\n"
     ]
    },
    {
     "data": {
      "text/html": [
       "<div>\n",
       "<style scoped>\n",
       "    .dataframe tbody tr th:only-of-type {\n",
       "        vertical-align: middle;\n",
       "    }\n",
       "\n",
       "    .dataframe tbody tr th {\n",
       "        vertical-align: top;\n",
       "    }\n",
       "\n",
       "    .dataframe thead th {\n",
       "        text-align: right;\n",
       "    }\n",
       "</style>\n",
       "<table border=\"1\" class=\"dataframe\">\n",
       "  <thead>\n",
       "    <tr style=\"text-align: right;\">\n",
       "      <th></th>\n",
       "      <th>Statistic</th>\n",
       "      <th>p-value</th>\n",
       "      <th>Result</th>\n",
       "      <th>Assumption pass</th>\n",
       "    </tr>\n",
       "    <tr>\n",
       "      <th>Tests</th>\n",
       "      <th></th>\n",
       "      <th></th>\n",
       "      <th></th>\n",
       "      <th></th>\n",
       "    </tr>\n",
       "  </thead>\n",
       "  <tbody>\n",
       "    <tr>\n",
       "      <th>Durbin-Watson Test:</th>\n",
       "      <td>2.030509</td>\n",
       "      <td></td>\n",
       "      <td>Autocorrelation not found</td>\n",
       "      <td>Pass</td>\n",
       "    </tr>\n",
       "    <tr>\n",
       "      <th>Perfect separation Test:</th>\n",
       "      <td></td>\n",
       "      <td></td>\n",
       "      <td>Perfect separation NOT detected.</td>\n",
       "      <td>Pass</td>\n",
       "    </tr>\n",
       "    <tr>\n",
       "      <th>Box-Tidwell Test:</th>\n",
       "      <td></td>\n",
       "      <td>0.088557</td>\n",
       "      <td>Relationship is linear</td>\n",
       "      <td>Pass</td>\n",
       "    </tr>\n",
       "  </tbody>\n",
       "</table>\n",
       "</div>"
      ],
      "text/plain": [
       "                         Statistic   p-value  \\\n",
       "Tests                                          \n",
       "Durbin-Watson Test:       2.030509             \n",
       "Perfect separation Test:                       \n",
       "Box-Tidwell Test:                   0.088557   \n",
       "\n",
       "                                                    Result Assumption pass  \n",
       "Tests                                                                       \n",
       "Durbin-Watson Test:              Autocorrelation not found            Pass  \n",
       "Perfect separation Test:  Perfect separation NOT detected.            Pass  \n",
       "Box-Tidwell Test:                   Relationship is linear            Pass  "
      ]
     },
     "execution_count": 164,
     "metadata": {},
     "output_type": "execute_result"
    }
   ],
   "source": [
    "df = check_logistic_reg_assumptions(Log_result_alco, train_df, \"alcohol\")\n",
    "df"
   ]
  },
  {
   "cell_type": "markdown",
   "id": "03dd2d33-0126-4fcf-9c96-746b9535861d",
   "metadata": {},
   "source": [
    "#### f. Summary of alcohol impact on quality"
   ]
  },
  {
   "cell_type": "markdown",
   "id": "b43b5ad6-fd14-463d-96e8-6a19896e431b",
   "metadata": {},
   "source": [
    "##### Summary:\n",
    "* **Linear Regression:** Alcohol percentage has a **positive and statistically significant effect** on wine quality (coefficient = 0.3713, p-value < 0.05). The **model explains 23.8%** of the variance in quality, though some assumptions (constant variance and normality of residuals) are violated. Linear model as well performed well on unseen data thurther proving above stated insights.\n",
    "* **Logistic Regression:** Higher **alcohol content increases the odds of wine being classified as good quality** (coefficient = 1.096, significant with 95% CI not including 0) thus it is significant predictor of whether a wine is classified as \"good\" or \"poor\". The model explains 16.86% of the variance in quality, and all assumptions are met.\n",
    "\n",
    "##### Argument for Hypothesis Testing $H_0$:\n",
    "Given the statistically significant results in both models (p-value < 0.05, confidence intervals excluding 0), we **reject the null hypothesis** $H_0$ that alcohol percentage has no impact on perceived wine quality **in favor of** $H_A$ which states that alcohol percentage of wine has a **POSITIVE impact on perceived wine quality**. Both linear and logistic regression indicate a meaningful relationship between alcohol content and wine quality."
   ]
  },
  {
   "cell_type": "markdown",
   "id": "d92b016f-b8b7-453a-959f-1cf0bdfaad84",
   "metadata": {},
   "source": [
    "### A.2 Sulphates"
   ]
  },
  {
   "cell_type": "markdown",
   "id": "d934ba44-d2dd-41f3-96b8-f179005c891d",
   "metadata": {},
   "source": [
    "#### a. Sulphates: Linear regression\n",
    "The following information of the linear regression informs that:\n",
    "* **Slope cooefficient is 1.7829** meaning sulphates increase has a positive effect on the wine quality which is even stronger than alcohol\n",
    "* **Slope coefficient P>|t| (p-value) is higher than 0.05** meaning coefficient is statistically significantly different than 0 thsu relationship between sulphates and quality is statistically significant.\n",
    "* **The 95% confidence interval for the coefficient is [ 1.470, 2.096]** meaning true coefficient lies in a range which does not include 0 as well.\n",
    "* **R-squared (R²) is 0.106** meaning that only 10.6% of the variance in the quality is explained by the model which includes only sulphates. This is 13.2% less than linear model containing alcohol explained. "
   ]
  },
  {
   "cell_type": "code",
   "execution_count": 165,
   "id": "0e0a1c2c-859f-4150-abd7-368b4ed336aa",
   "metadata": {},
   "outputs": [
    {
     "name": "stdout",
     "output_type": "stream",
     "text": [
      "                            OLS Regression Results                            \n",
      "==============================================================================\n",
      "Dep. Variable:                      y   R-squared:                       0.106\n",
      "Model:                            OLS   Adj. R-squared:                  0.106\n",
      "Method:                 Least Squares   F-statistic:                     125.0\n",
      "Date:                Thu, 05 Sep 2024   Prob (F-statistic):           1.71e-27\n",
      "Time:                        16:20:50   Log-Likelihood:                -1226.4\n",
      "No. Observations:                1051   AIC:                             2457.\n",
      "Df Residuals:                    1049   BIC:                             2467.\n",
      "Df Model:                           1                                         \n",
      "Covariance Type:            nonrobust                                         \n",
      "==============================================================================\n",
      "                 coef    std err          t      P>|t|      [0.025      0.975]\n",
      "------------------------------------------------------------------------------\n",
      "const          4.4748      0.106     42.122      0.000       4.266       4.683\n",
      "x1             1.7829      0.159     11.180      0.000       1.470       2.096\n",
      "==============================================================================\n",
      "Omnibus:                        7.314   Durbin-Watson:                   2.045\n",
      "Prob(Omnibus):                  0.026   Jarque-Bera (JB):                9.212\n",
      "Skew:                           0.075   Prob(JB):                      0.00999\n",
      "Kurtosis:                       3.434   Cond. No.                         9.49\n",
      "==============================================================================\n",
      "\n",
      "Notes:\n",
      "[1] Standard Errors assume that the covariance matrix of the errors is correctly specified.\n"
     ]
    }
   ],
   "source": [
    "x_train_sulph = train_df[\"sulphates\"].values.reshape(-1, 1)\n",
    "y_train_quality = train_df[\"quality\"].values\n",
    "x_train_sulph_with_const = sm.add_constant(x_train_sulph)\n",
    "model_sulph = sm.OLS(y_train_quality, x_train_sulph_with_const)\n",
    "\n",
    "results_sulph = model_sulph.fit()\n",
    "print(results_sulph.summary())"
   ]
  },
  {
   "cell_type": "markdown",
   "id": "ab79299d-171d-4cb0-9674-e8188e9ab292",
   "metadata": {},
   "source": [
    "#### b. Linear regression assumptions\n",
    "Only 2 out of the 4 linear regression assumptions passes. Sulphates and quality does seem to form a linear relationship and no autocorrelation between residuals is found. However the variance of errors is not constant and residuals are not normally distributed."
   ]
  },
  {
   "cell_type": "code",
   "execution_count": 166,
   "id": "c8aeb6ba-0081-41c8-8fb3-36292e71e5f4",
   "metadata": {},
   "outputs": [
    {
     "data": {
      "text/html": [
       "<div>\n",
       "<style scoped>\n",
       "    .dataframe tbody tr th:only-of-type {\n",
       "        vertical-align: middle;\n",
       "    }\n",
       "\n",
       "    .dataframe tbody tr th {\n",
       "        vertical-align: top;\n",
       "    }\n",
       "\n",
       "    .dataframe thead th {\n",
       "        text-align: right;\n",
       "    }\n",
       "</style>\n",
       "<table border=\"1\" class=\"dataframe\">\n",
       "  <thead>\n",
       "    <tr style=\"text-align: right;\">\n",
       "      <th></th>\n",
       "      <th>Statistic</th>\n",
       "      <th>p-value</th>\n",
       "      <th>Result</th>\n",
       "      <th>Assumption passed</th>\n",
       "    </tr>\n",
       "    <tr>\n",
       "      <th>Tests</th>\n",
       "      <th></th>\n",
       "      <th></th>\n",
       "      <th></th>\n",
       "      <th></th>\n",
       "    </tr>\n",
       "  </thead>\n",
       "  <tbody>\n",
       "    <tr>\n",
       "      <th>Harvey-Collier Test:</th>\n",
       "      <td>1.042121</td>\n",
       "      <td>0.318424</td>\n",
       "      <td>Relationship is linear</td>\n",
       "      <td>Pass</td>\n",
       "    </tr>\n",
       "    <tr>\n",
       "      <th>Breusch-Pagan Test: LM</th>\n",
       "      <td>44.151250</td>\n",
       "      <td>0.0</td>\n",
       "      <td>Heteroscedasticity found</td>\n",
       "      <td>Fail</td>\n",
       "    </tr>\n",
       "    <tr>\n",
       "      <th>Breusch-Pagan Test: F</th>\n",
       "      <td>45.999622</td>\n",
       "      <td>0.0</td>\n",
       "      <td>Heteroscedasticity found</td>\n",
       "      <td>Fail</td>\n",
       "    </tr>\n",
       "    <tr>\n",
       "      <th>Durbin-Watson Test:</th>\n",
       "      <td>2.044773</td>\n",
       "      <td></td>\n",
       "      <td>Autocorrelation not found</td>\n",
       "      <td>Pass</td>\n",
       "    </tr>\n",
       "    <tr>\n",
       "      <th>Kolmogorov-Smirnov Test:</th>\n",
       "      <td>0.101804</td>\n",
       "      <td>0.0</td>\n",
       "      <td>Residuals are non-normally distributed</td>\n",
       "      <td>Fail</td>\n",
       "    </tr>\n",
       "  </tbody>\n",
       "</table>\n",
       "</div>"
      ],
      "text/plain": [
       "                          Statistic   p-value  \\\n",
       "Tests                                           \n",
       "Harvey-Collier Test:       1.042121  0.318424   \n",
       "Breusch-Pagan Test: LM    44.151250       0.0   \n",
       "Breusch-Pagan Test: F     45.999622       0.0   \n",
       "Durbin-Watson Test:        2.044773             \n",
       "Kolmogorov-Smirnov Test:   0.101804       0.0   \n",
       "\n",
       "                                                          Result  \\\n",
       "Tests                                                              \n",
       "Harvey-Collier Test:                      Relationship is linear   \n",
       "Breusch-Pagan Test: LM                  Heteroscedasticity found   \n",
       "Breusch-Pagan Test: F                   Heteroscedasticity found   \n",
       "Durbin-Watson Test:                    Autocorrelation not found   \n",
       "Kolmogorov-Smirnov Test:  Residuals are non-normally distributed   \n",
       "\n",
       "                         Assumption passed  \n",
       "Tests                                       \n",
       "Harvey-Collier Test:                  Pass  \n",
       "Breusch-Pagan Test: LM                Fail  \n",
       "Breusch-Pagan Test: F                 Fail  \n",
       "Durbin-Watson Test:                   Pass  \n",
       "Kolmogorov-Smirnov Test:              Fail  "
      ]
     },
     "execution_count": 166,
     "metadata": {},
     "output_type": "execute_result"
    }
   ],
   "source": [
    "df = check_linear_reg_assumptions(results_sulph)\n",
    "df"
   ]
  },
  {
   "cell_type": "markdown",
   "id": "739ddff9-66b3-48ee-8410-a30fae2ae960",
   "metadata": {},
   "source": [
    "#### c. Sulphates: Linear model performance on holdout data\n",
    "* **Mean Absolute Error (MAE):** average magnitude of errors seems to be similar when using either training or test data. A slightly worse score of holdout data suggest model is generalizing quite well and is not overfitting the training data too much.\n",
    "* **Mean Squared Error (MSE):** Slightly worse MSE score on holdout data proves as well that model performs well on unseen data.\n",
    "* **Root Mean Squared Error (RMSE):** Slightly worse RMSE score on holdout data again proves that model performs well on unseen data.\n",
    "* **R-squared (R²):** Unfortunately the explanation of quality variance using the holdout data is nearly 2 times worse having 4.7% less explanation than the training data.\n",
    "\n",
    "Overall we may conclude that the linear regression model using sulphates performs consistently on the unseen data and training data, not overfitting the training data and generalizing well. Unfortunately the model is capable to expnain only 5.86% - 10.6% of the varinace of quality suggesting that sulphates property is not the one that could capture the underlying patterns in the data."
   ]
  },
  {
   "cell_type": "code",
   "execution_count": 167,
   "id": "4a0b9ac8-1cde-40fb-b6f0-837ee9b27cef",
   "metadata": {},
   "outputs": [
    {
     "data": {
      "text/html": [
       "<div>\n",
       "<style scoped>\n",
       "    .dataframe tbody tr th:only-of-type {\n",
       "        vertical-align: middle;\n",
       "    }\n",
       "\n",
       "    .dataframe tbody tr th {\n",
       "        vertical-align: top;\n",
       "    }\n",
       "\n",
       "    .dataframe thead th {\n",
       "        text-align: right;\n",
       "    }\n",
       "</style>\n",
       "<table border=\"1\" class=\"dataframe\">\n",
       "  <thead>\n",
       "    <tr style=\"text-align: right;\">\n",
       "      <th></th>\n",
       "      <th>Training data</th>\n",
       "      <th>Holdout data</th>\n",
       "    </tr>\n",
       "  </thead>\n",
       "  <tbody>\n",
       "    <tr>\n",
       "      <th>Mean Absolute Error (MAE)</th>\n",
       "      <td>0.634524</td>\n",
       "      <td>0.639411</td>\n",
       "    </tr>\n",
       "    <tr>\n",
       "      <th>Mean Squared Error (MSE)</th>\n",
       "      <td>0.604048</td>\n",
       "      <td>0.635284</td>\n",
       "    </tr>\n",
       "    <tr>\n",
       "      <th>Root Mean Squared Error (RMSE)</th>\n",
       "      <td>0.777205</td>\n",
       "      <td>0.797047</td>\n",
       "    </tr>\n",
       "    <tr>\n",
       "      <th>R-squared (R²)</th>\n",
       "      <td>0.106466</td>\n",
       "      <td>0.058615</td>\n",
       "    </tr>\n",
       "  </tbody>\n",
       "</table>\n",
       "</div>"
      ],
      "text/plain": [
       "                                Training data  Holdout data\n",
       "Mean Absolute Error (MAE)            0.634524      0.639411\n",
       "Mean Squared Error (MSE)             0.604048      0.635284\n",
       "Root Mean Squared Error (RMSE)       0.777205      0.797047\n",
       "R-squared (R²)                       0.106466      0.058615"
      ]
     },
     "execution_count": 167,
     "metadata": {},
     "output_type": "execute_result"
    }
   ],
   "source": [
    "df = test_holdout_model(\n",
    "    \"sulphates\",\n",
    "    results_sulph,\n",
    "    x_train_sulph_with_const,\n",
    "    y_train_quality,\n",
    "    holdout_df,\n",
    ")\n",
    "df"
   ]
  },
  {
   "cell_type": "markdown",
   "id": "c545441b-2faa-4803-8526-0c4d9fc735e4",
   "metadata": {},
   "source": [
    "#### d. Suphates: Logistic regression\n",
    "The logistic regression provides the following summary:\n",
    "* **The x1 coefficient** is 4.8853 suggesting that increasing sulphates increases odds that wine will be classified as good quality\n",
    "* **95% conffidence interval** is [3.813, 5.957] which does not include 0 making the sulphates influence on quality statistically significant\n",
    "* **Pseudo R-squ.:** The value of 0.06866 suggest that logistic regression explains only 6.87% (small amount) of quality variance.\n",
    "* **Log-Likelihood and LL-Null difference** value around 49.87 suggests that model having sulphates predictor is moderately better at fitting the data than a model with no predictors."
   ]
  },
  {
   "cell_type": "code",
   "execution_count": 168,
   "id": "ef446135-738f-4dcd-ba6b-5e17eb2cea40",
   "metadata": {},
   "outputs": [
    {
     "name": "stdout",
     "output_type": "stream",
     "text": [
      "Optimization terminated successfully.\n",
      "         Current function value: 0.643661\n",
      "         Iterations 6\n",
      "                           Logit Regression Results                           \n",
      "==============================================================================\n",
      "Dep. Variable:                      y   No. Observations:                 1051\n",
      "Model:                          Logit   Df Residuals:                     1049\n",
      "Method:                           MLE   Df Model:                            1\n",
      "Date:                Thu, 05 Sep 2024   Pseudo R-squ.:                 0.06866\n",
      "Time:                        16:20:50   Log-Likelihood:                -676.49\n",
      "converged:                       True   LL-Null:                       -726.36\n",
      "Covariance Type:            nonrobust   LLR p-value:                 1.733e-23\n",
      "==============================================================================\n",
      "                 coef    std err          z      P>|z|      [0.025      0.975]\n",
      "------------------------------------------------------------------------------\n",
      "const         -2.9996      0.351     -8.549      0.000      -3.687      -2.312\n",
      "x1             4.8853      0.547      8.933      0.000       3.813       5.957\n",
      "==============================================================================\n"
     ]
    }
   ],
   "source": [
    "logit_model_sulph = sm.Logit(y_train_quality_binary, x_train_sulph_with_const)\n",
    "Log_result_sulph = logit_model_sulph.fit()\n",
    "print(Log_result_sulph.summary());"
   ]
  },
  {
   "cell_type": "markdown",
   "id": "60d245d5-2b47-4e66-8875-8d841cd3d41f",
   "metadata": {},
   "source": [
    "#### e. Logisic regression assumptions\n",
    "Only 2 out of 3 logistic regression assumptions passes. Even though observations are independent since autocorrelation is not found as well as perfect separation is not detected, the relationship between sulphates and logit of quality is non-linear. </br>\r\n",
    "This non-linear relationship means that the current model specification is not capturing the true relationship adequately."
   ]
  },
  {
   "cell_type": "code",
   "execution_count": 169,
   "id": "17898137-3a82-4b75-b931-25708ff19fb5",
   "metadata": {},
   "outputs": [
    {
     "name": "stdout",
     "output_type": "stream",
     "text": [
      "Optimization terminated successfully.\n",
      "         Current function value: 0.626220\n",
      "         Iterations 6\n"
     ]
    },
    {
     "data": {
      "text/html": [
       "<div>\n",
       "<style scoped>\n",
       "    .dataframe tbody tr th:only-of-type {\n",
       "        vertical-align: middle;\n",
       "    }\n",
       "\n",
       "    .dataframe tbody tr th {\n",
       "        vertical-align: top;\n",
       "    }\n",
       "\n",
       "    .dataframe thead th {\n",
       "        text-align: right;\n",
       "    }\n",
       "</style>\n",
       "<table border=\"1\" class=\"dataframe\">\n",
       "  <thead>\n",
       "    <tr style=\"text-align: right;\">\n",
       "      <th></th>\n",
       "      <th>Statistic</th>\n",
       "      <th>p-value</th>\n",
       "      <th>Result</th>\n",
       "      <th>Assumption pass</th>\n",
       "    </tr>\n",
       "    <tr>\n",
       "      <th>Tests</th>\n",
       "      <th></th>\n",
       "      <th></th>\n",
       "      <th></th>\n",
       "      <th></th>\n",
       "    </tr>\n",
       "  </thead>\n",
       "  <tbody>\n",
       "    <tr>\n",
       "      <th>Durbin-Watson Test:</th>\n",
       "      <td>2.053504</td>\n",
       "      <td></td>\n",
       "      <td>Autocorrelation not found</td>\n",
       "      <td>Pass</td>\n",
       "    </tr>\n",
       "    <tr>\n",
       "      <th>Perfect separation Test:</th>\n",
       "      <td></td>\n",
       "      <td></td>\n",
       "      <td>Perfect separation NOT detected.</td>\n",
       "      <td>Pass</td>\n",
       "    </tr>\n",
       "    <tr>\n",
       "      <th>Box-Tidwell Test:</th>\n",
       "      <td></td>\n",
       "      <td>0.0</td>\n",
       "      <td>Relationship is non-linear</td>\n",
       "      <td>Fail</td>\n",
       "    </tr>\n",
       "  </tbody>\n",
       "</table>\n",
       "</div>"
      ],
      "text/plain": [
       "                         Statistic p-value                            Result  \\\n",
       "Tests                                                                          \n",
       "Durbin-Watson Test:       2.053504                 Autocorrelation not found   \n",
       "Perfect separation Test:                    Perfect separation NOT detected.   \n",
       "Box-Tidwell Test:                      0.0        Relationship is non-linear   \n",
       "\n",
       "                         Assumption pass  \n",
       "Tests                                     \n",
       "Durbin-Watson Test:                 Pass  \n",
       "Perfect separation Test:            Pass  \n",
       "Box-Tidwell Test:                   Fail  "
      ]
     },
     "execution_count": 169,
     "metadata": {},
     "output_type": "execute_result"
    }
   ],
   "source": [
    "df = check_logistic_reg_assumptions(Log_result_sulph, train_df, \"sulphates\")\n",
    "df"
   ]
  },
  {
   "cell_type": "markdown",
   "id": "0d11d42b-860a-46a8-9384-b141f441af69",
   "metadata": {},
   "source": [
    "#### f. Summary of sulphates impact on quality"
   ]
  },
  {
   "cell_type": "markdown",
   "id": "7070ae41-90c7-4022-ae49-10a61a812583",
   "metadata": {},
   "source": [
    "##### Summary:\n",
    "* **Linear Regression:**\n",
    "The sulphates have a **positive and statistically significant effect on wine quality** (coefficient = 1.7829, p-value < 0.05), stronger than alcohol. The model **explains 10.6% of the variance in quality**, which is **lower than** the model for **alcohol**. However, only **two out of four regression assumptions are met**, with violations in constant variance and normality of residuals. Despite these issues, the model performs consistently on unseen data, suggesting it generalizes well, though it only explains 5.86% to 10.6% of the variance in quality, indicating that **sulphates alone are not a strong predictor**.\n",
    "\n",
    "* **Logistic Regression:**\n",
    "Increasing sulphates **significantly increases the odds of wine being classified as good quality** (coefficient = 4.8853, with a 95% CI of [3.813, 5.957]). However, the model explains only 6.87% of the variance in quality, indicating a **modest fit**. While most assumptions are met, the non-linear relationship between sulphates and the logit of quality suggests the **model may NOT adequately capture the true relationship**.\n",
    "\n",
    "##### Argument for Hypothesis Testing:\n",
    "Given the significant positive coefficients in both the linear and logistic regression models, we **reject the null hypothesis** that sulphates have no impact on perceived wine quality. However, the relatively low explanatory power and the non-linear relationship in the logistic regression suggest that while sulphates have a significant effect, **they may NOT be the best standalone predictor of wine quality**."
   ]
  },
  {
   "cell_type": "markdown",
   "id": "61ae80a2-d8ed-42b7-8187-ff129961435f",
   "metadata": {},
   "source": [
    "### A.3 Citric acid"
   ]
  },
  {
   "cell_type": "markdown",
   "id": "264c45c0-c632-4c09-ace6-617792283dba",
   "metadata": {},
   "source": [
    "#### a. Citric acid: Linear regression\n",
    "The following information of the linear regression informs that:\n",
    "* **Slope cooefficient is 0.9899** meaning citric acid increase has a possitive effect on the wine quality which is similar to sulphates\n",
    "* **Slope coefficient P>|t| (p-value) is higher than 0.05** meaning coefficient is statistically significantly different than 0 thus relationship between citric acid and quality is statistically significant.\n",
    "* **The 95% confidence interval for the coefficient is [0.735, 1.245]** meaning true coefficient lies in a range which does not include 0 as well.\n",
    "* **R-squared (R²) is  0.053** meaning that only 5.3% of the variance in the quality is explained by the model which includes only citric acid. This is around  twice less than linear model containing sulphates explained. "
   ]
  },
  {
   "cell_type": "code",
   "execution_count": 170,
   "id": "b8e3608a-effd-4428-a519-7248e98bb453",
   "metadata": {},
   "outputs": [
    {
     "name": "stdout",
     "output_type": "stream",
     "text": [
      "                            OLS Regression Results                            \n",
      "==============================================================================\n",
      "Dep. Variable:                      y   R-squared:                       0.053\n",
      "Model:                            OLS   Adj. R-squared:                  0.052\n",
      "Method:                 Least Squares   F-statistic:                     58.15\n",
      "Date:                Thu, 05 Sep 2024   Prob (F-statistic):           5.44e-14\n",
      "Time:                        16:20:50   Log-Likelihood:                -1257.2\n",
      "No. Observations:                1051   AIC:                             2518.\n",
      "Df Residuals:                    1049   BIC:                             2528.\n",
      "Df Model:                           1                                         \n",
      "Covariance Type:            nonrobust                                         \n",
      "==============================================================================\n",
      "                 coef    std err          t      P>|t|      [0.025      0.975]\n",
      "------------------------------------------------------------------------------\n",
      "const          5.3690      0.042    126.621      0.000       5.286       5.452\n",
      "x1             0.9899      0.130      7.625      0.000       0.735       1.245\n",
      "==============================================================================\n",
      "Omnibus:                       10.816   Durbin-Watson:                   2.013\n",
      "Prob(Omnibus):                  0.004   Jarque-Bera (JB):               11.405\n",
      "Skew:                           0.202   Prob(JB):                      0.00334\n",
      "Kurtosis:                       3.311   Cond. No.                         5.64\n",
      "==============================================================================\n",
      "\n",
      "Notes:\n",
      "[1] Standard Errors assume that the covariance matrix of the errors is correctly specified.\n"
     ]
    }
   ],
   "source": [
    "x_train_citra = train_df[\"citric acid\"].values.reshape(-1, 1)\n",
    "x_train_citra_with_const = sm.add_constant(x_train_citra)\n",
    "model_citra = sm.OLS(y_train_quality, x_train_citra_with_const)\n",
    "\n",
    "results_citra = model_citra.fit()\n",
    "print(results_citra.summary())"
   ]
  },
  {
   "cell_type": "markdown",
   "id": "42ea03d4-9339-4454-9401-fec9aacdec84",
   "metadata": {},
   "source": [
    "#### b. Linear regression assumptions\n",
    "Only 1 out of the 4 linear regression assumptions fail which is the best result seen compared to alcohol and sulphates. </br>\n",
    "Citric acid and quality does seem to form a linear relationship, no autocorrelation between residuals is found and the variance of errors is finally constant. </br>\n",
    "Unfortunately the residuals are not normally distributed."
   ]
  },
  {
   "cell_type": "code",
   "execution_count": 171,
   "id": "9d473237-6df9-4656-bb66-7138f695d814",
   "metadata": {},
   "outputs": [
    {
     "data": {
      "text/html": [
       "<div>\n",
       "<style scoped>\n",
       "    .dataframe tbody tr th:only-of-type {\n",
       "        vertical-align: middle;\n",
       "    }\n",
       "\n",
       "    .dataframe tbody tr th {\n",
       "        vertical-align: top;\n",
       "    }\n",
       "\n",
       "    .dataframe thead th {\n",
       "        text-align: right;\n",
       "    }\n",
       "</style>\n",
       "<table border=\"1\" class=\"dataframe\">\n",
       "  <thead>\n",
       "    <tr style=\"text-align: right;\">\n",
       "      <th></th>\n",
       "      <th>Statistic</th>\n",
       "      <th>p-value</th>\n",
       "      <th>Result</th>\n",
       "      <th>Assumption passed</th>\n",
       "    </tr>\n",
       "    <tr>\n",
       "      <th>Tests</th>\n",
       "      <th></th>\n",
       "      <th></th>\n",
       "      <th></th>\n",
       "      <th></th>\n",
       "    </tr>\n",
       "  </thead>\n",
       "  <tbody>\n",
       "    <tr>\n",
       "      <th>Harvey-Collier Test:</th>\n",
       "      <td>1.047070</td>\n",
       "      <td>0.29933</td>\n",
       "      <td>Relationship is linear</td>\n",
       "      <td>Pass</td>\n",
       "    </tr>\n",
       "    <tr>\n",
       "      <th>Breusch-Pagan Test: LM</th>\n",
       "      <td>1.972056</td>\n",
       "      <td>0.16023</td>\n",
       "      <td>Heteroscedasticity not found</td>\n",
       "      <td>Pass</td>\n",
       "    </tr>\n",
       "    <tr>\n",
       "      <th>Breusch-Pagan Test: F</th>\n",
       "      <td>1.972003</td>\n",
       "      <td>0.160531</td>\n",
       "      <td>Heteroscedasticity not found</td>\n",
       "      <td>Pass</td>\n",
       "    </tr>\n",
       "    <tr>\n",
       "      <th>Durbin-Watson Test:</th>\n",
       "      <td>2.012848</td>\n",
       "      <td></td>\n",
       "      <td>Autocorrelation not found</td>\n",
       "      <td>Pass</td>\n",
       "    </tr>\n",
       "    <tr>\n",
       "      <th>Kolmogorov-Smirnov Test:</th>\n",
       "      <td>0.145760</td>\n",
       "      <td>0.0</td>\n",
       "      <td>Residuals are non-normally distributed</td>\n",
       "      <td>Fail</td>\n",
       "    </tr>\n",
       "  </tbody>\n",
       "</table>\n",
       "</div>"
      ],
      "text/plain": [
       "                          Statistic   p-value  \\\n",
       "Tests                                           \n",
       "Harvey-Collier Test:       1.047070   0.29933   \n",
       "Breusch-Pagan Test: LM     1.972056   0.16023   \n",
       "Breusch-Pagan Test: F      1.972003  0.160531   \n",
       "Durbin-Watson Test:        2.012848             \n",
       "Kolmogorov-Smirnov Test:   0.145760       0.0   \n",
       "\n",
       "                                                          Result  \\\n",
       "Tests                                                              \n",
       "Harvey-Collier Test:                      Relationship is linear   \n",
       "Breusch-Pagan Test: LM              Heteroscedasticity not found   \n",
       "Breusch-Pagan Test: F               Heteroscedasticity not found   \n",
       "Durbin-Watson Test:                    Autocorrelation not found   \n",
       "Kolmogorov-Smirnov Test:  Residuals are non-normally distributed   \n",
       "\n",
       "                         Assumption passed  \n",
       "Tests                                       \n",
       "Harvey-Collier Test:                  Pass  \n",
       "Breusch-Pagan Test: LM                Pass  \n",
       "Breusch-Pagan Test: F                 Pass  \n",
       "Durbin-Watson Test:                   Pass  \n",
       "Kolmogorov-Smirnov Test:              Fail  "
      ]
     },
     "execution_count": 171,
     "metadata": {},
     "output_type": "execute_result"
    }
   ],
   "source": [
    "df = check_linear_reg_assumptions(results_citra)\n",
    "df"
   ]
  },
  {
   "cell_type": "markdown",
   "id": "2e39b0b2-52ed-4363-9fd2-661bfa2d735d",
   "metadata": {},
   "source": [
    "#### c. Citric acid: Linear model performance on holdout data\n",
    "* **Mean Absolute Error (MAE):** average magnitude of errors seems to be slightly better when using test data compared to training data. This suggests that model is generalizing quite well and is not overfitting the training data too much.\n",
    "* **Mean Squared Error (MSE):** Slightly better MSE score on holdout data still suggests that model performs well on unseen data.\n",
    "* **Root Mean Squared Error (RMSE):** Slightly better RMSE score on holdout data again proves that model performs well on unseen data.\n",
    "* **R-squared (R²):** A better explanation (3.47% better) of quality variance is seen once the holdout data is being used.\n",
    "\n",
    "Overall we may conclude that the linear regression model using citric acid performs consistently on the unseen data and training data. Unfortunately the model is capable to expnain only 5.25% - 8.72% of the varinace of quality suggesting that citric acid model capture the underlying patterns in the data which is similar to model uning sulphates."
   ]
  },
  {
   "cell_type": "code",
   "execution_count": 172,
   "id": "e8500cf3-c209-45d9-a64b-26da6139ab84",
   "metadata": {},
   "outputs": [
    {
     "data": {
      "text/html": [
       "<div>\n",
       "<style scoped>\n",
       "    .dataframe tbody tr th:only-of-type {\n",
       "        vertical-align: middle;\n",
       "    }\n",
       "\n",
       "    .dataframe tbody tr th {\n",
       "        vertical-align: top;\n",
       "    }\n",
       "\n",
       "    .dataframe thead th {\n",
       "        text-align: right;\n",
       "    }\n",
       "</style>\n",
       "<table border=\"1\" class=\"dataframe\">\n",
       "  <thead>\n",
       "    <tr style=\"text-align: right;\">\n",
       "      <th></th>\n",
       "      <th>Training data</th>\n",
       "      <th>Holdout data</th>\n",
       "    </tr>\n",
       "  </thead>\n",
       "  <tbody>\n",
       "    <tr>\n",
       "      <th>Mean Absolute Error (MAE)</th>\n",
       "      <td>0.660604</td>\n",
       "      <td>0.654774</td>\n",
       "    </tr>\n",
       "    <tr>\n",
       "      <th>Mean Squared Error (MSE)</th>\n",
       "      <td>0.640518</td>\n",
       "      <td>0.615984</td>\n",
       "    </tr>\n",
       "    <tr>\n",
       "      <th>Root Mean Squared Error (RMSE)</th>\n",
       "      <td>0.800323</td>\n",
       "      <td>0.784847</td>\n",
       "    </tr>\n",
       "    <tr>\n",
       "      <th>R-squared (R²)</th>\n",
       "      <td>0.052519</td>\n",
       "      <td>0.087214</td>\n",
       "    </tr>\n",
       "  </tbody>\n",
       "</table>\n",
       "</div>"
      ],
      "text/plain": [
       "                                Training data  Holdout data\n",
       "Mean Absolute Error (MAE)            0.660604      0.654774\n",
       "Mean Squared Error (MSE)             0.640518      0.615984\n",
       "Root Mean Squared Error (RMSE)       0.800323      0.784847\n",
       "R-squared (R²)                       0.052519      0.087214"
      ]
     },
     "execution_count": 172,
     "metadata": {},
     "output_type": "execute_result"
    }
   ],
   "source": [
    "df = test_holdout_model(\n",
    "    \"citric acid\",\n",
    "    results_citra,\n",
    "    x_train_citra_with_const,\n",
    "    y_train_quality,\n",
    "    holdout_df,\n",
    ")\n",
    "df"
   ]
  },
  {
   "cell_type": "markdown",
   "id": "e595f71e-7797-41c2-a54b-7ea3a18225a2",
   "metadata": {},
   "source": [
    "#### d. Citric acid: Logistic regression\n",
    "The logistic regression provides the following summary:\n",
    "* **The x1 coefficient** is  2.0035 suggesting that increasing citric acid increases odds that wine will be clasified as good quality\n",
    "* **95% conffidence interval** is [1.341, 2.666] which does not include 0 making the citric acid influence on quality statistically significant\n",
    "* **Pseudo R-squ.:** The value of 0.02515 suggest that logistic regression explains only 2.52% (very small amount) of quality variance.\n",
    "* **Log-Likelihood and LL-Null difference** value around 18.26 suggests that model having citric acid predictor does not provide a substantial improvement over the null model."
   ]
  },
  {
   "cell_type": "code",
   "execution_count": 173,
   "id": "2e3dd7f1-1882-4826-a207-85357941962f",
   "metadata": {},
   "outputs": [
    {
     "name": "stdout",
     "output_type": "stream",
     "text": [
      "Optimization terminated successfully.\n",
      "         Current function value: 0.673736\n",
      "         Iterations 4\n",
      "                           Logit Regression Results                           \n",
      "==============================================================================\n",
      "Dep. Variable:                      y   No. Observations:                 1051\n",
      "Model:                          Logit   Df Residuals:                     1049\n",
      "Method:                           MLE   Df Model:                            1\n",
      "Date:                Thu, 05 Sep 2024   Pseudo R-squ.:                 0.02515\n",
      "Time:                        16:20:50   Log-Likelihood:                -708.10\n",
      "converged:                       True   LL-Null:                       -726.36\n",
      "Covariance Type:            nonrobust   LLR p-value:                 1.504e-09\n",
      "==============================================================================\n",
      "                 coef    std err          z      P>|z|      [0.025      0.975]\n",
      "------------------------------------------------------------------------------\n",
      "const         -0.3984      0.108     -3.694      0.000      -0.610      -0.187\n",
      "x1             2.0035      0.338      5.929      0.000       1.341       2.666\n",
      "==============================================================================\n"
     ]
    }
   ],
   "source": [
    "logit_model_citra = sm.Logit(y_train_quality_binary, x_train_citra_with_const)\n",
    "Log_result_citra = logit_model_citra.fit()\n",
    "print(Log_result_citra.summary());"
   ]
  },
  {
   "cell_type": "markdown",
   "id": "ad82827a-4f2b-4e9d-8235-61afe5c8ecc9",
   "metadata": {},
   "source": [
    "#### e. Logistic regression assumptions\n",
    "Only 2 out of 3 logistic regression assumptions passes. Even though observations are independent since autocorrelation is not found as well as perfect separation is not detected, the relationship between citric acid and logit of quality is non-linear. </br>\n",
    "This non-linear relationship means that the current model specification is not capturing the true relationship adequately."
   ]
  },
  {
   "cell_type": "code",
   "execution_count": 174,
   "id": "3ba1a03b-aed6-4f1f-a539-ae8d6c48689a",
   "metadata": {},
   "outputs": [
    {
     "name": "stdout",
     "output_type": "stream",
     "text": [
      "Optimization terminated successfully.\n",
      "         Current function value: 0.670373\n",
      "         Iterations 5\n"
     ]
    },
    {
     "data": {
      "text/html": [
       "<div>\n",
       "<style scoped>\n",
       "    .dataframe tbody tr th:only-of-type {\n",
       "        vertical-align: middle;\n",
       "    }\n",
       "\n",
       "    .dataframe tbody tr th {\n",
       "        vertical-align: top;\n",
       "    }\n",
       "\n",
       "    .dataframe thead th {\n",
       "        text-align: right;\n",
       "    }\n",
       "</style>\n",
       "<table border=\"1\" class=\"dataframe\">\n",
       "  <thead>\n",
       "    <tr style=\"text-align: right;\">\n",
       "      <th></th>\n",
       "      <th>Statistic</th>\n",
       "      <th>p-value</th>\n",
       "      <th>Result</th>\n",
       "      <th>Assumption pass</th>\n",
       "    </tr>\n",
       "    <tr>\n",
       "      <th>Tests</th>\n",
       "      <th></th>\n",
       "      <th></th>\n",
       "      <th></th>\n",
       "      <th></th>\n",
       "    </tr>\n",
       "  </thead>\n",
       "  <tbody>\n",
       "    <tr>\n",
       "      <th>Durbin-Watson Test:</th>\n",
       "      <td>2.038623</td>\n",
       "      <td></td>\n",
       "      <td>Autocorrelation not found</td>\n",
       "      <td>Pass</td>\n",
       "    </tr>\n",
       "    <tr>\n",
       "      <th>Perfect separation Test:</th>\n",
       "      <td></td>\n",
       "      <td></td>\n",
       "      <td>Perfect separation NOT detected.</td>\n",
       "      <td>Pass</td>\n",
       "    </tr>\n",
       "    <tr>\n",
       "      <th>Box-Tidwell Test:</th>\n",
       "      <td></td>\n",
       "      <td>0.008363</td>\n",
       "      <td>Relationship is non-linear</td>\n",
       "      <td>Fail</td>\n",
       "    </tr>\n",
       "  </tbody>\n",
       "</table>\n",
       "</div>"
      ],
      "text/plain": [
       "                         Statistic   p-value  \\\n",
       "Tests                                          \n",
       "Durbin-Watson Test:       2.038623             \n",
       "Perfect separation Test:                       \n",
       "Box-Tidwell Test:                   0.008363   \n",
       "\n",
       "                                                    Result Assumption pass  \n",
       "Tests                                                                       \n",
       "Durbin-Watson Test:              Autocorrelation not found            Pass  \n",
       "Perfect separation Test:  Perfect separation NOT detected.            Pass  \n",
       "Box-Tidwell Test:               Relationship is non-linear            Fail  "
      ]
     },
     "execution_count": 174,
     "metadata": {},
     "output_type": "execute_result"
    }
   ],
   "source": [
    "df = check_logistic_reg_assumptions(Log_result_citra, train_df, \"citric acid\")\n",
    "df"
   ]
  },
  {
   "cell_type": "markdown",
   "id": "90a0868b-be14-407c-9559-8e5685d20ecc",
   "metadata": {},
   "source": [
    "#### f. Summary of citric acid impact on quality"
   ]
  },
  {
   "cell_type": "markdown",
   "id": "df15d5b2-460f-4c0a-b021-6b10f2d4093f",
   "metadata": {},
   "source": [
    "##### Summary:\n",
    "* **Linear Regression (Citric Acid):**\n",
    "Citric acid has a **positive and statistically significant effect on wine quality** (coefficient = 0.9899, p-value < 0.05). The model explains **only 5.3% of the variance** in quality, which is **lower than the model for sulphates**. Most linear regression assumptions are met: the relationship is linear, no autocorrelation is found, and the variance of errors is constant. However, residuals are not normally distributed. The model performs **consistently on unseen data**, showing slightly better error metrics and **explaining up to 8.72%** of the variance in quality, though its **overall explanatory power is limited**.\n",
    "\n",
    "* **Logistic Regression (Citric Acid):**\n",
    "Increasing citric acid significantly **increases the odds of wine being classified as good quality** (coefficient = 2.0035, with a 95% CI of [1.341, 2.666]). However, the **model explains only 2.52%** of the variance in quality, suggesting **a weak fit**. The Log-Likelihood difference of 18.26 indicates that the model with citric acid as a predictor provides **only a modest improvement over the null model**. Most assumptions are met, but the non-linear relationship between citric acid and the logit of quality suggests **the model does not fully capture the true relationship**.\n",
    "\n",
    "##### Argument for Hypothesis Testing:\n",
    "Given the statistically significant coefficients in both models, we **reject the null hypothesis** that citric acid has no impact on perceived wine quality. However, the low explanatory power, particularly in the logistic regression, suggests that while citric acid has a significant effect, it is **not a strong predictor of wine quality on its own**."
   ]
  },
  {
   "cell_type": "markdown",
   "id": "b4372199-2ee8-4009-9edf-7270da26e857",
   "metadata": {},
   "source": [
    "### B. Negative impact"
   ]
  },
  {
   "cell_type": "markdown",
   "id": "dbad05d3-e790-4fe7-a700-b4bd20ee480e",
   "metadata": {},
   "source": [
    "### B.1 Volatile acidity"
   ]
  },
  {
   "cell_type": "markdown",
   "id": "d03e0c5c-8324-466e-b07b-414e4fefecba",
   "metadata": {},
   "source": [
    "#### a. Volatile acidity: Linear regression\n",
    "The following information of the linear regression informs that:\n",
    "* **Slope coefficient is -1.6881** meaning volatile acidity increase has a negative effect on the wine quality \n",
    "* **Slope coefficient P>|t| (p-value) is higher than 0.05** meaning coefficient is statistically significantly different than 0 thus relationship between volatile acidity and quality is statistically significant.\n",
    "* **The 95% confidence interval for the coefficient is [-1.946, -1.430]** meaning true coefficient lies in a range which does not include 0 as well.\n",
    "* **R-squared (R²) is 0.136** meaning that only 13.6% of the variance in the quality is explained by the model which includes only volatile acidity. "
   ]
  },
  {
   "cell_type": "code",
   "execution_count": 175,
   "id": "e5e5d0ef-9dea-4507-aa31-6a0dea641360",
   "metadata": {},
   "outputs": [
    {
     "name": "stdout",
     "output_type": "stream",
     "text": [
      "                            OLS Regression Results                            \n",
      "==============================================================================\n",
      "Dep. Variable:                      y   R-squared:                       0.136\n",
      "Model:                            OLS   Adj. R-squared:                  0.135\n",
      "Method:                 Least Squares   F-statistic:                     165.1\n",
      "Date:                Thu, 05 Sep 2024   Prob (F-statistic):           3.44e-35\n",
      "Time:                        16:20:50   Log-Likelihood:                -1208.8\n",
      "No. Observations:                1051   AIC:                             2422.\n",
      "Df Residuals:                    1049   BIC:                             2431.\n",
      "Df Model:                           1                                         \n",
      "Covariance Type:            nonrobust                                         \n",
      "==============================================================================\n",
      "                 coef    std err          t      P>|t|      [0.025      0.975]\n",
      "------------------------------------------------------------------------------\n",
      "const          6.5196      0.073     89.284      0.000       6.376       6.663\n",
      "x1            -1.6881      0.131    -12.847      0.000      -1.946      -1.430\n",
      "==============================================================================\n",
      "Omnibus:                       19.166   Durbin-Watson:                   2.026\n",
      "Prob(Omnibus):                  0.000   Jarque-Bera (JB):               20.337\n",
      "Skew:                           0.296   Prob(JB):                     3.84e-05\n",
      "Kurtosis:                       3.336   Cond. No.                         7.15\n",
      "==============================================================================\n",
      "\n",
      "Notes:\n",
      "[1] Standard Errors assume that the covariance matrix of the errors is correctly specified.\n"
     ]
    }
   ],
   "source": [
    "x_train_vac = train_df[\"volatile acidity\"].values.reshape(-1, 1)\n",
    "x_train_vac_with_const = sm.add_constant(x_train_vac)\n",
    "model_vac = sm.OLS(y_train_quality, x_train_vac_with_const)\n",
    "\n",
    "results_vac = model_vac.fit()\n",
    "print(results_vac.summary())"
   ]
  },
  {
   "cell_type": "markdown",
   "id": "71d2052b-de99-4a70-bee1-402b4834494b",
   "metadata": {},
   "source": [
    "#### b. Linear regression assumptions\n",
    "Like citric acid linear regressions, linear regression including volatile acidity has only 1 out of the 4 linear regression assumptions failing. </br>\n",
    "Volatile acidity and quality does seem to form a linear relationship, observasions are independent since no autocorrelation between residuals is found and the variance of errors is constant. </br>\n",
    "Unfortunatelly the residuals are non-normally distributed."
   ]
  },
  {
   "cell_type": "code",
   "execution_count": 176,
   "id": "6b8fad3c-89f8-4448-9100-ae379ed81e76",
   "metadata": {},
   "outputs": [
    {
     "data": {
      "text/html": [
       "<div>\n",
       "<style scoped>\n",
       "    .dataframe tbody tr th:only-of-type {\n",
       "        vertical-align: middle;\n",
       "    }\n",
       "\n",
       "    .dataframe tbody tr th {\n",
       "        vertical-align: top;\n",
       "    }\n",
       "\n",
       "    .dataframe thead th {\n",
       "        text-align: right;\n",
       "    }\n",
       "</style>\n",
       "<table border=\"1\" class=\"dataframe\">\n",
       "  <thead>\n",
       "    <tr style=\"text-align: right;\">\n",
       "      <th></th>\n",
       "      <th>Statistic</th>\n",
       "      <th>p-value</th>\n",
       "      <th>Result</th>\n",
       "      <th>Assumption passed</th>\n",
       "    </tr>\n",
       "    <tr>\n",
       "      <th>Tests</th>\n",
       "      <th></th>\n",
       "      <th></th>\n",
       "      <th></th>\n",
       "      <th></th>\n",
       "    </tr>\n",
       "  </thead>\n",
       "  <tbody>\n",
       "    <tr>\n",
       "      <th>Harvey-Collier Test:</th>\n",
       "      <td>1.079678</td>\n",
       "      <td>0.190182</td>\n",
       "      <td>Relationship is linear</td>\n",
       "      <td>Pass</td>\n",
       "    </tr>\n",
       "    <tr>\n",
       "      <th>Breusch-Pagan Test: LM</th>\n",
       "      <td>0.003733</td>\n",
       "      <td>0.951284</td>\n",
       "      <td>Heteroscedasticity not found</td>\n",
       "      <td>Pass</td>\n",
       "    </tr>\n",
       "    <tr>\n",
       "      <th>Breusch-Pagan Test: F</th>\n",
       "      <td>0.003725</td>\n",
       "      <td>0.951342</td>\n",
       "      <td>Heteroscedasticity not found</td>\n",
       "      <td>Pass</td>\n",
       "    </tr>\n",
       "    <tr>\n",
       "      <th>Durbin-Watson Test:</th>\n",
       "      <td>2.026197</td>\n",
       "      <td></td>\n",
       "      <td>Autocorrelation not found</td>\n",
       "      <td>Pass</td>\n",
       "    </tr>\n",
       "    <tr>\n",
       "      <th>Kolmogorov-Smirnov Test:</th>\n",
       "      <td>0.061758</td>\n",
       "      <td>0.00063</td>\n",
       "      <td>Residuals are non-normally distributed</td>\n",
       "      <td>Fail</td>\n",
       "    </tr>\n",
       "  </tbody>\n",
       "</table>\n",
       "</div>"
      ],
      "text/plain": [
       "                          Statistic   p-value  \\\n",
       "Tests                                           \n",
       "Harvey-Collier Test:       1.079678  0.190182   \n",
       "Breusch-Pagan Test: LM     0.003733  0.951284   \n",
       "Breusch-Pagan Test: F      0.003725  0.951342   \n",
       "Durbin-Watson Test:        2.026197             \n",
       "Kolmogorov-Smirnov Test:   0.061758   0.00063   \n",
       "\n",
       "                                                          Result  \\\n",
       "Tests                                                              \n",
       "Harvey-Collier Test:                      Relationship is linear   \n",
       "Breusch-Pagan Test: LM              Heteroscedasticity not found   \n",
       "Breusch-Pagan Test: F               Heteroscedasticity not found   \n",
       "Durbin-Watson Test:                    Autocorrelation not found   \n",
       "Kolmogorov-Smirnov Test:  Residuals are non-normally distributed   \n",
       "\n",
       "                         Assumption passed  \n",
       "Tests                                       \n",
       "Harvey-Collier Test:                  Pass  \n",
       "Breusch-Pagan Test: LM                Pass  \n",
       "Breusch-Pagan Test: F                 Pass  \n",
       "Durbin-Watson Test:                   Pass  \n",
       "Kolmogorov-Smirnov Test:              Fail  "
      ]
     },
     "execution_count": 176,
     "metadata": {},
     "output_type": "execute_result"
    }
   ],
   "source": [
    "df = check_linear_reg_assumptions(results_vac)\n",
    "df"
   ]
  },
  {
   "cell_type": "markdown",
   "id": "3dcfdf1c-613a-4a8c-9854-c1c3aa405a68",
   "metadata": {},
   "source": [
    "#### c. Volatile acidity: Linear model performance on holdout data\n",
    "* **Mean Absolute Error (MAE):** MAE seems to be  slightly better when using test data compared to training data which suggest model is generalizing quite well.\n",
    "* **Mean Squared Error (MSE):** Slightly lower MSE score on holdout data proves as well that model performs well on unseen data.\n",
    "* **Root Mean Squared Error (RMSE):** Slightly lower RMSE score on holdout data again proves that model does not overfit training data.\n",
    "* **R-squared (R²):** Unexpectedly better explanation (9% better) of quality variance is seen once the holdout data is being used.\n",
    "\n",
    "Overall we may conclude that the linear regression model using sulphates performs consistently on the unseen data and training data, not overfitting the training data and generalizing well. Since the model is capable to expnain 13.6% - 22.7% of a portion of varinace of quality suggesting that volatile acidity is capturing well some of the underlying patterns in the data."
   ]
  },
  {
   "cell_type": "code",
   "execution_count": 177,
   "id": "f2ae8718-05ec-4d4c-8d21-30c52d5e02b2",
   "metadata": {},
   "outputs": [
    {
     "data": {
      "text/html": [
       "<div>\n",
       "<style scoped>\n",
       "    .dataframe tbody tr th:only-of-type {\n",
       "        vertical-align: middle;\n",
       "    }\n",
       "\n",
       "    .dataframe tbody tr th {\n",
       "        vertical-align: top;\n",
       "    }\n",
       "\n",
       "    .dataframe thead th {\n",
       "        text-align: right;\n",
       "    }\n",
       "</style>\n",
       "<table border=\"1\" class=\"dataframe\">\n",
       "  <thead>\n",
       "    <tr style=\"text-align: right;\">\n",
       "      <th></th>\n",
       "      <th>Training data</th>\n",
       "      <th>Holdout data</th>\n",
       "    </tr>\n",
       "  </thead>\n",
       "  <tbody>\n",
       "    <tr>\n",
       "      <th>Mean Absolute Error (MAE)</th>\n",
       "      <td>0.611414</td>\n",
       "      <td>0.588455</td>\n",
       "    </tr>\n",
       "    <tr>\n",
       "      <th>Mean Squared Error (MSE)</th>\n",
       "      <td>0.584114</td>\n",
       "      <td>0.521659</td>\n",
       "    </tr>\n",
       "    <tr>\n",
       "      <th>Root Mean Squared Error (RMSE)</th>\n",
       "      <td>0.764274</td>\n",
       "      <td>0.722260</td>\n",
       "    </tr>\n",
       "    <tr>\n",
       "      <th>R-squared (R²)</th>\n",
       "      <td>0.135953</td>\n",
       "      <td>0.226988</td>\n",
       "    </tr>\n",
       "  </tbody>\n",
       "</table>\n",
       "</div>"
      ],
      "text/plain": [
       "                                Training data  Holdout data\n",
       "Mean Absolute Error (MAE)            0.611414      0.588455\n",
       "Mean Squared Error (MSE)             0.584114      0.521659\n",
       "Root Mean Squared Error (RMSE)       0.764274      0.722260\n",
       "R-squared (R²)                       0.135953      0.226988"
      ]
     },
     "execution_count": 177,
     "metadata": {},
     "output_type": "execute_result"
    }
   ],
   "source": [
    "df = test_holdout_model(\n",
    "    \"volatile acidity\",\n",
    "    results_vac,\n",
    "    x_train_vac_with_const,\n",
    "    y_train_quality,\n",
    "    holdout_df,\n",
    ")\n",
    "df"
   ]
  },
  {
   "cell_type": "markdown",
   "id": "06a0db1a-e9df-4450-a292-1810342ada97",
   "metadata": {},
   "source": [
    "#### d. Volatile acidity: Logistic regression\n",
    "The logistic regression provides the following summary:\n",
    "* **The x1 coefficient** is  -4.0628 suggesting that increasing volatile acidity decreases odds that wine will be clasified as good quality\n",
    "* **95% coeffidence interval** is [-4.863, -3.262] which does not include 0 making the voliatile acidity influence on quality statistically significant\n",
    "* **Pseudo R-squ.:** The value of 0.08029 suggest that logistic regression explains only 8.03% (small amount) of quality variance.\n",
    "* **Log-Likelihood and LL-Null difference** value around 58.32 suggests that model having volatile acidity predictor does a better job of explaining the variability in the data compared to a model with no predictors."
   ]
  },
  {
   "cell_type": "code",
   "execution_count": 178,
   "id": "b52d2885-918c-41dc-906c-077ac924692d",
   "metadata": {},
   "outputs": [
    {
     "name": "stdout",
     "output_type": "stream",
     "text": [
      "Optimization terminated successfully.\n",
      "         Current function value: 0.635626\n",
      "         Iterations 5\n",
      "                           Logit Regression Results                           \n",
      "==============================================================================\n",
      "Dep. Variable:                      y   No. Observations:                 1051\n",
      "Model:                          Logit   Df Residuals:                     1049\n",
      "Method:                           MLE   Df Model:                            1\n",
      "Date:                Thu, 05 Sep 2024   Pseudo R-squ.:                 0.08029\n",
      "Time:                        16:20:50   Log-Likelihood:                -668.04\n",
      "converged:                       True   LL-Null:                       -726.36\n",
      "Covariance Type:            nonrobust   LLR p-value:                 3.451e-27\n",
      "==============================================================================\n",
      "                 coef    std err          z      P>|z|      [0.025      0.975]\n",
      "------------------------------------------------------------------------------\n",
      "const          2.2654      0.224     10.116      0.000       1.827       2.704\n",
      "x1            -4.0628      0.408     -9.946      0.000      -4.863      -3.262\n",
      "==============================================================================\n"
     ]
    }
   ],
   "source": [
    "logit_model_vac = sm.Logit(y_train_quality_binary, x_train_vac_with_const)\n",
    "Log_result_vac = logit_model_vac.fit()\n",
    "print(Log_result_vac.summary());"
   ]
  },
  {
   "cell_type": "markdown",
   "id": "ceb2fac4-938d-48d9-b585-995ad0764939",
   "metadata": {},
   "source": [
    "#### e. Logistic regression assumptions\n",
    "Only 2 out of 3 logistic regression assumptions passes. Even though observations are independent since autocorrelation is not found as well as perfect separation is not detected, the relationship between volatile acidity and logit of quality is non-linear. </br>\n",
    "This non-linear relationship means that the current model specification is not capturing the true relationship adequately."
   ]
  },
  {
   "cell_type": "code",
   "execution_count": 179,
   "id": "d106db57-abb7-4fa9-a6a3-77f26e5af3d4",
   "metadata": {},
   "outputs": [
    {
     "name": "stdout",
     "output_type": "stream",
     "text": [
      "Optimization terminated successfully.\n",
      "         Current function value: 0.632423\n",
      "         Iterations 5\n"
     ]
    },
    {
     "data": {
      "text/html": [
       "<div>\n",
       "<style scoped>\n",
       "    .dataframe tbody tr th:only-of-type {\n",
       "        vertical-align: middle;\n",
       "    }\n",
       "\n",
       "    .dataframe tbody tr th {\n",
       "        vertical-align: top;\n",
       "    }\n",
       "\n",
       "    .dataframe thead th {\n",
       "        text-align: right;\n",
       "    }\n",
       "</style>\n",
       "<table border=\"1\" class=\"dataframe\">\n",
       "  <thead>\n",
       "    <tr style=\"text-align: right;\">\n",
       "      <th></th>\n",
       "      <th>Statistic</th>\n",
       "      <th>p-value</th>\n",
       "      <th>Result</th>\n",
       "      <th>Assumption pass</th>\n",
       "    </tr>\n",
       "    <tr>\n",
       "      <th>Tests</th>\n",
       "      <th></th>\n",
       "      <th></th>\n",
       "      <th></th>\n",
       "      <th></th>\n",
       "    </tr>\n",
       "  </thead>\n",
       "  <tbody>\n",
       "    <tr>\n",
       "      <th>Durbin-Watson Test:</th>\n",
       "      <td>2.049398</td>\n",
       "      <td></td>\n",
       "      <td>Autocorrelation not found</td>\n",
       "      <td>Pass</td>\n",
       "    </tr>\n",
       "    <tr>\n",
       "      <th>Perfect separation Test:</th>\n",
       "      <td></td>\n",
       "      <td></td>\n",
       "      <td>Perfect separation NOT detected.</td>\n",
       "      <td>Pass</td>\n",
       "    </tr>\n",
       "    <tr>\n",
       "      <th>Box-Tidwell Test:</th>\n",
       "      <td></td>\n",
       "      <td>0.007725</td>\n",
       "      <td>Relationship is non-linear</td>\n",
       "      <td>Fail</td>\n",
       "    </tr>\n",
       "  </tbody>\n",
       "</table>\n",
       "</div>"
      ],
      "text/plain": [
       "                         Statistic   p-value  \\\n",
       "Tests                                          \n",
       "Durbin-Watson Test:       2.049398             \n",
       "Perfect separation Test:                       \n",
       "Box-Tidwell Test:                   0.007725   \n",
       "\n",
       "                                                    Result Assumption pass  \n",
       "Tests                                                                       \n",
       "Durbin-Watson Test:              Autocorrelation not found            Pass  \n",
       "Perfect separation Test:  Perfect separation NOT detected.            Pass  \n",
       "Box-Tidwell Test:               Relationship is non-linear            Fail  "
      ]
     },
     "execution_count": 179,
     "metadata": {},
     "output_type": "execute_result"
    }
   ],
   "source": [
    "df = check_logistic_reg_assumptions(\n",
    "    Log_result_vac, train_df, \"volatile acidity\"\n",
    ")\n",
    "df"
   ]
  },
  {
   "cell_type": "markdown",
   "id": "83cbd358-5b2e-4ac0-ab2a-5263a8ef5ab1",
   "metadata": {},
   "source": [
    "#### f. Summary of Volatile acidity impact on quality"
   ]
  },
  {
   "cell_type": "markdown",
   "id": "05cb168e-3c86-4e7a-90d4-3cb03f81c875",
   "metadata": {},
   "source": [
    "##### Summary:\n",
    "* **Linear Regression:**\n",
    "Volatile acidity has a **significant negative effect on wine quality** (coefficient = -1.6881, p-value < 0.05). The model **explains 13.6%** of the variance in quality. Most linear regression assumptions are met: the relationship is linear, there is no autocorrelation, and the variance of errors is constant. However, the residuals are not normally distributed. The model performs consistently **on unseen data**, showing slightly better error metrics and **explaining up to 22.7%** of the variance in quality. This suggests that volatile acidity **captures some underlying patterns in the data better than citric acid or sulphates**.\n",
    "\n",
    "* **Logistic Regression:**\n",
    "Increasing volatile acidity **significantly decreases the odds of wine being classified as good quality** (coefficient = -4.0628, with a 95% CI of [-4.863, -3.262]). The model **explains 8.03% of the variance in quality**, a **moderate fit** compared to other predictors. The Log-Likelihood difference of 58.32 indicates that the **model with volatile acidity** as a predictor **does a better job of explaining** the variability in the data than a model with no predictors. However, the non-linear relationship between volatile acidity and the logit of quality suggests that the model may **not fully capture the true relationship**.\n",
    "\n",
    "##### Argument for Hypothesis Testing:\n",
    "Given the significant negative coefficients in both models, we **reject the null hypothesis** that volatile acidity has no impact on perceived wine quality **in favor of the alternative hypothesis, which states that volatile acidity has a negative impact on perceived wine quality**. Both linear and logistic regression results indicate a **meaningful negative relationship** between volatile acidity and wine quality."
   ]
  },
  {
   "cell_type": "markdown",
   "id": "2b4f834b-5190-4b0c-a074-13d95f929c2a",
   "metadata": {},
   "source": [
    "### B.2 Density"
   ]
  },
  {
   "cell_type": "markdown",
   "id": "8b87ef6f-c254-4c34-a497-de66c66b59ae",
   "metadata": {},
   "source": [
    "#### a. Density: Linear regression\n",
    "The following information of the linear regression informs that:\n",
    "* **Slope coefficient is -85.7028** meaning density increase has a very strong negative effect on the wine quality \n",
    "* **Slope coefficient P>|t| (p-value) is higher than 0.05** meaning coefficient is statistically significantly different than 0 thus relationship between density and quality is statistically significant.\n",
    "* **The 95% confidence interval for the coefficient is [-111.931, -59.475]** meaning true coefficient lies in a range which does not include 0 as well.\n",
    "* **R-squared (R²) is 0.038** meaning that only 3.8% of the variance in the quality is explained by the model which includes only density. This is 9.8% less than linear model containing volatile acidity."
   ]
  },
  {
   "cell_type": "code",
   "execution_count": 180,
   "id": "746616ef-500d-41f0-a37c-8f5f06da32e7",
   "metadata": {},
   "outputs": [
    {
     "name": "stdout",
     "output_type": "stream",
     "text": [
      "                            OLS Regression Results                            \n",
      "==============================================================================\n",
      "Dep. Variable:                      y   R-squared:                       0.038\n",
      "Model:                            OLS   Adj. R-squared:                  0.037\n",
      "Method:                 Least Squares   F-statistic:                     41.11\n",
      "Date:                Thu, 05 Sep 2024   Prob (F-statistic):           2.17e-10\n",
      "Time:                        16:20:50   Log-Likelihood:                -1265.4\n",
      "No. Observations:                1051   AIC:                             2535.\n",
      "Df Residuals:                    1049   BIC:                             2545.\n",
      "Df Model:                           1                                         \n",
      "Covariance Type:            nonrobust                                         \n",
      "==============================================================================\n",
      "                 coef    std err          t      P>|t|      [0.025      0.975]\n",
      "------------------------------------------------------------------------------\n",
      "const         91.0470     13.322      6.835      0.000      64.907     117.187\n",
      "x1           -85.7028     13.366     -6.412      0.000    -111.931     -59.475\n",
      "==============================================================================\n",
      "Omnibus:                        8.471   Durbin-Watson:                   1.974\n",
      "Prob(Omnibus):                  0.014   Jarque-Bera (JB):                8.588\n",
      "Skew:                           0.188   Prob(JB):                       0.0137\n",
      "Kurtosis:                       3.235   Cond. No.                     1.07e+03\n",
      "==============================================================================\n",
      "\n",
      "Notes:\n",
      "[1] Standard Errors assume that the covariance matrix of the errors is correctly specified.\n",
      "[2] The condition number is large, 1.07e+03. This might indicate that there are\n",
      "strong multicollinearity or other numerical problems.\n"
     ]
    }
   ],
   "source": [
    "x_train_den = train_df[\"density\"].values.reshape(-1, 1)\n",
    "x_train_den_with_const = sm.add_constant(x_train_den)\n",
    "model_den = sm.OLS(y_train_quality, x_train_den_with_const)\n",
    "\n",
    "results_den = model_den.fit()\n",
    "print(results_den.summary())"
   ]
  },
  {
   "cell_type": "markdown",
   "id": "9c53ffe5-58aa-4cac-a68b-0e348e83e9c8",
   "metadata": {},
   "source": [
    "#### b. Linear regression assumptions\n",
    "The same situation as volatile acidity linear regression can be observed with density linear regression.</br>\n",
    "Density and quality does seem to form a linear relationship, observasions are independent since no autocorrelation between residuals is found and the variance of errors is constant. </br>\n",
    "Unfortunately the residuals are non-normally distributed."
   ]
  },
  {
   "cell_type": "code",
   "execution_count": 181,
   "id": "d3f6baf6-6adf-44d3-8205-feccb6d013b6",
   "metadata": {},
   "outputs": [
    {
     "data": {
      "text/html": [
       "<div>\n",
       "<style scoped>\n",
       "    .dataframe tbody tr th:only-of-type {\n",
       "        vertical-align: middle;\n",
       "    }\n",
       "\n",
       "    .dataframe tbody tr th {\n",
       "        vertical-align: top;\n",
       "    }\n",
       "\n",
       "    .dataframe thead th {\n",
       "        text-align: right;\n",
       "    }\n",
       "</style>\n",
       "<table border=\"1\" class=\"dataframe\">\n",
       "  <thead>\n",
       "    <tr style=\"text-align: right;\">\n",
       "      <th></th>\n",
       "      <th>Statistic</th>\n",
       "      <th>p-value</th>\n",
       "      <th>Result</th>\n",
       "      <th>Assumption passed</th>\n",
       "    </tr>\n",
       "    <tr>\n",
       "      <th>Tests</th>\n",
       "      <th></th>\n",
       "      <th></th>\n",
       "      <th></th>\n",
       "      <th></th>\n",
       "    </tr>\n",
       "  </thead>\n",
       "  <tbody>\n",
       "    <tr>\n",
       "      <th>Harvey-Collier Test:</th>\n",
       "      <td>1.070014</td>\n",
       "      <td>0.21936</td>\n",
       "      <td>Relationship is linear</td>\n",
       "      <td>Pass</td>\n",
       "    </tr>\n",
       "    <tr>\n",
       "      <th>Breusch-Pagan Test: LM</th>\n",
       "      <td>1.373145</td>\n",
       "      <td>0.241272</td>\n",
       "      <td>Heteroscedasticity not found</td>\n",
       "      <td>Pass</td>\n",
       "    </tr>\n",
       "    <tr>\n",
       "      <th>Breusch-Pagan Test: F</th>\n",
       "      <td>1.372325</td>\n",
       "      <td>0.241679</td>\n",
       "      <td>Heteroscedasticity not found</td>\n",
       "      <td>Pass</td>\n",
       "    </tr>\n",
       "    <tr>\n",
       "      <th>Durbin-Watson Test:</th>\n",
       "      <td>1.974271</td>\n",
       "      <td></td>\n",
       "      <td>Autocorrelation not found</td>\n",
       "      <td>Pass</td>\n",
       "    </tr>\n",
       "    <tr>\n",
       "      <th>Kolmogorov-Smirnov Test:</th>\n",
       "      <td>0.133705</td>\n",
       "      <td>0.0</td>\n",
       "      <td>Residuals are non-normally distributed</td>\n",
       "      <td>Fail</td>\n",
       "    </tr>\n",
       "  </tbody>\n",
       "</table>\n",
       "</div>"
      ],
      "text/plain": [
       "                          Statistic   p-value  \\\n",
       "Tests                                           \n",
       "Harvey-Collier Test:       1.070014   0.21936   \n",
       "Breusch-Pagan Test: LM     1.373145  0.241272   \n",
       "Breusch-Pagan Test: F      1.372325  0.241679   \n",
       "Durbin-Watson Test:        1.974271             \n",
       "Kolmogorov-Smirnov Test:   0.133705       0.0   \n",
       "\n",
       "                                                          Result  \\\n",
       "Tests                                                              \n",
       "Harvey-Collier Test:                      Relationship is linear   \n",
       "Breusch-Pagan Test: LM              Heteroscedasticity not found   \n",
       "Breusch-Pagan Test: F               Heteroscedasticity not found   \n",
       "Durbin-Watson Test:                    Autocorrelation not found   \n",
       "Kolmogorov-Smirnov Test:  Residuals are non-normally distributed   \n",
       "\n",
       "                         Assumption passed  \n",
       "Tests                                       \n",
       "Harvey-Collier Test:                  Pass  \n",
       "Breusch-Pagan Test: LM                Pass  \n",
       "Breusch-Pagan Test: F                 Pass  \n",
       "Durbin-Watson Test:                   Pass  \n",
       "Kolmogorov-Smirnov Test:              Fail  "
      ]
     },
     "execution_count": 181,
     "metadata": {},
     "output_type": "execute_result"
    }
   ],
   "source": [
    "df = check_linear_reg_assumptions(results_den)\n",
    "df"
   ]
  },
  {
   "cell_type": "markdown",
   "id": "e03d2640-543e-443f-8e9b-091ec2679696",
   "metadata": {},
   "source": [
    "#### c. Density: Linear model performance on holdout data\n",
    "\n",
    "* **Mean Absolute Error (MAE):** MAE seems to be  very similar when using either training or test data which suggest model is generalizing quite well.\n",
    "* **Mean Squared Error (MSE):** Very similar MSE score on holdout data proves as well that model performs well on unseen data.\n",
    "* **Root Mean Squared Error (RMSE):** Nearly identical RMSE score on holdout data again proves that model does not overfit training data.\n",
    "* **R-squared (R²):** Slightly better explanation (0.5% better) of quality variance is seen once the holdout data is being used.\n",
    "\n",
    "Overall we may conclude that the linear regression model using sulphates performs consistently on the unseen data and training data, not overfitting the training data and generalizing well. Unfortunately the model is capable to expnain only 3.77% - 3.27% of varinace of quality suggesting that density is not capturing the underlying patterns in the data."
   ]
  },
  {
   "cell_type": "code",
   "execution_count": 182,
   "id": "27455d31-5ff9-4cef-91b7-e6e3f7ab9ee4",
   "metadata": {},
   "outputs": [
    {
     "data": {
      "text/html": [
       "<div>\n",
       "<style scoped>\n",
       "    .dataframe tbody tr th:only-of-type {\n",
       "        vertical-align: middle;\n",
       "    }\n",
       "\n",
       "    .dataframe tbody tr th {\n",
       "        vertical-align: top;\n",
       "    }\n",
       "\n",
       "    .dataframe thead th {\n",
       "        text-align: right;\n",
       "    }\n",
       "</style>\n",
       "<table border=\"1\" class=\"dataframe\">\n",
       "  <thead>\n",
       "    <tr style=\"text-align: right;\">\n",
       "      <th></th>\n",
       "      <th>Training data</th>\n",
       "      <th>Holdout data</th>\n",
       "    </tr>\n",
       "  </thead>\n",
       "  <tbody>\n",
       "    <tr>\n",
       "      <th>Mean Absolute Error (MAE)</th>\n",
       "      <td>0.668372</td>\n",
       "      <td>0.672135</td>\n",
       "    </tr>\n",
       "    <tr>\n",
       "      <th>Mean Squared Error (MSE)</th>\n",
       "      <td>0.650527</td>\n",
       "      <td>0.652789</td>\n",
       "    </tr>\n",
       "    <tr>\n",
       "      <th>Root Mean Squared Error (RMSE)</th>\n",
       "      <td>0.806552</td>\n",
       "      <td>0.807953</td>\n",
       "    </tr>\n",
       "    <tr>\n",
       "      <th>R-squared (R²)</th>\n",
       "      <td>0.037713</td>\n",
       "      <td>0.032676</td>\n",
       "    </tr>\n",
       "  </tbody>\n",
       "</table>\n",
       "</div>"
      ],
      "text/plain": [
       "                                Training data  Holdout data\n",
       "Mean Absolute Error (MAE)            0.668372      0.672135\n",
       "Mean Squared Error (MSE)             0.650527      0.652789\n",
       "Root Mean Squared Error (RMSE)       0.806552      0.807953\n",
       "R-squared (R²)                       0.037713      0.032676"
      ]
     },
     "execution_count": 182,
     "metadata": {},
     "output_type": "execute_result"
    }
   ],
   "source": [
    "df = test_holdout_model(\n",
    "    \"density\", results_den, x_train_den_with_const, y_train_quality, holdout_df\n",
    ")\n",
    "df"
   ]
  },
  {
   "cell_type": "markdown",
   "id": "0ec56bb8-0888-456c-96a8-bb6314c3e30c",
   "metadata": {},
   "source": [
    "#### d. Density: Logistic regression\n",
    "The logistic regression provides the following summary:\n",
    "* **The x1 coefficient** is -192.359 suggesting that increasing density very signifivantly decreases odds that wine will be classified as good quality\n",
    "* **95% confidence interval** is [-260.993, -123.725] which does not include 0 making the densityy influence on quality statistically significant\n",
    "* **Pseudo R-squ.:** The value of 0.0219 suggest that logistic regression explains only 2.19% (extremely small amount) of quality variance.\n",
    "* **Log-Likelihood and LL-Null difference** value around 15.91 suggests that model having density predictor does not provide a substantial improvement over the null model."
   ]
  },
  {
   "cell_type": "code",
   "execution_count": 183,
   "id": "dc34614a-3b60-4af4-bec1-414b2638d105",
   "metadata": {},
   "outputs": [
    {
     "name": "stdout",
     "output_type": "stream",
     "text": [
      "Optimization terminated successfully.\n",
      "         Current function value: 0.675980\n",
      "         Iterations 5\n",
      "                           Logit Regression Results                           \n",
      "==============================================================================\n",
      "Dep. Variable:                      y   No. Observations:                 1051\n",
      "Model:                          Logit   Df Residuals:                     1049\n",
      "Method:                           MLE   Df Model:                            1\n",
      "Date:                Thu, 05 Sep 2024   Pseudo R-squ.:                 0.02190\n",
      "Time:                        16:20:50   Log-Likelihood:                -710.45\n",
      "converged:                       True   LL-Null:                       -726.36\n",
      "Covariance Type:            nonrobust   LLR p-value:                 1.699e-08\n",
      "==============================================================================\n",
      "                 coef    std err          z      P>|z|      [0.025      0.975]\n",
      "------------------------------------------------------------------------------\n",
      "const        191.8455     34.902      5.497      0.000     123.439     260.252\n",
      "x1          -192.3590     35.018     -5.493      0.000    -260.993    -123.725\n",
      "==============================================================================\n"
     ]
    }
   ],
   "source": [
    "logit_model_den = sm.Logit(y_train_quality_binary, x_train_den_with_const)\n",
    "Log_result_den = logit_model_den.fit()\n",
    "print(Log_result_den.summary());"
   ]
  },
  {
   "cell_type": "markdown",
   "id": "a3bf8b94-f599-4239-a247-eaa991832952",
   "metadata": {},
   "source": [
    "#### e. Logistic regression assumptions\n",
    "All logistic regression assumption passes. Observations are independent since autocorrelation is not found, perfect separation is not detected and the relationship between density and logit of quality is linear."
   ]
  },
  {
   "cell_type": "code",
   "execution_count": 184,
   "id": "15c0a16b-a8ca-4bdb-86db-e172eb05a02d",
   "metadata": {},
   "outputs": [
    {
     "name": "stdout",
     "output_type": "stream",
     "text": [
      "Warning: Maximum number of iterations has been exceeded.\n",
      "         Current function value: 0.682096\n",
      "         Iterations: 35\n"
     ]
    },
    {
     "name": "stderr",
     "output_type": "stream",
     "text": [
      "C:\\Users\\godak\\anaconda3\\Lib\\site-packages\\statsmodels\\base\\model.py:607: ConvergenceWarning: Maximum Likelihood optimization failed to converge. Check mle_retvals\n",
      "  warnings.warn(\"Maximum Likelihood optimization failed to \"\n"
     ]
    },
    {
     "data": {
      "text/html": [
       "<div>\n",
       "<style scoped>\n",
       "    .dataframe tbody tr th:only-of-type {\n",
       "        vertical-align: middle;\n",
       "    }\n",
       "\n",
       "    .dataframe tbody tr th {\n",
       "        vertical-align: top;\n",
       "    }\n",
       "\n",
       "    .dataframe thead th {\n",
       "        text-align: right;\n",
       "    }\n",
       "</style>\n",
       "<table border=\"1\" class=\"dataframe\">\n",
       "  <thead>\n",
       "    <tr style=\"text-align: right;\">\n",
       "      <th></th>\n",
       "      <th>Statistic</th>\n",
       "      <th>p-value</th>\n",
       "      <th>Result</th>\n",
       "      <th>Assumption pass</th>\n",
       "    </tr>\n",
       "    <tr>\n",
       "      <th>Tests</th>\n",
       "      <th></th>\n",
       "      <th></th>\n",
       "      <th></th>\n",
       "      <th></th>\n",
       "    </tr>\n",
       "  </thead>\n",
       "  <tbody>\n",
       "    <tr>\n",
       "      <th>Durbin-Watson Test:</th>\n",
       "      <td>2.024279</td>\n",
       "      <td></td>\n",
       "      <td>Autocorrelation not found</td>\n",
       "      <td>Pass</td>\n",
       "    </tr>\n",
       "    <tr>\n",
       "      <th>Perfect separation Test:</th>\n",
       "      <td></td>\n",
       "      <td></td>\n",
       "      <td>Perfect separation NOT detected.</td>\n",
       "      <td>Pass</td>\n",
       "    </tr>\n",
       "    <tr>\n",
       "      <th>Box-Tidwell Test:</th>\n",
       "      <td></td>\n",
       "      <td>0.265328</td>\n",
       "      <td>Relationship is linear</td>\n",
       "      <td>Pass</td>\n",
       "    </tr>\n",
       "  </tbody>\n",
       "</table>\n",
       "</div>"
      ],
      "text/plain": [
       "                         Statistic   p-value  \\\n",
       "Tests                                          \n",
       "Durbin-Watson Test:       2.024279             \n",
       "Perfect separation Test:                       \n",
       "Box-Tidwell Test:                   0.265328   \n",
       "\n",
       "                                                    Result Assumption pass  \n",
       "Tests                                                                       \n",
       "Durbin-Watson Test:              Autocorrelation not found            Pass  \n",
       "Perfect separation Test:  Perfect separation NOT detected.            Pass  \n",
       "Box-Tidwell Test:                   Relationship is linear            Pass  "
      ]
     },
     "execution_count": 184,
     "metadata": {},
     "output_type": "execute_result"
    }
   ],
   "source": [
    "df = check_logistic_reg_assumptions(Log_result_den, train_df, \"density\")\n",
    "df"
   ]
  },
  {
   "cell_type": "markdown",
   "id": "3145ebf6-e1eb-4518-b8bb-a54fa2123a0c",
   "metadata": {},
   "source": [
    "#### f. Summary of Density impact on quality"
   ]
  },
  {
   "cell_type": "markdown",
   "id": "c67fbf57-b1bf-4691-8ce4-87f149a6d002",
   "metadata": {},
   "source": [
    "##### Summary:\n",
    "* **Linear Regression:**\n",
    "Density has a **significant and strong negative effect on wine quality** (coefficient = -85.7028, p-value < 0.05). The model explains **only 3.8%** of the variance in quality, which is **notably less than the model with volatile acidity**. Despite meeting most assumptions—linear relationship, no autocorrelation, and constant variance of errors—the residuals are not normally distributed. The model performs **consistently on unseen data**, with very similar error metrics across training and test data. However, it explains only 3.27% to 3.77% of the variance in quality, indicating that density **does NOT capture the underlying patterns in the data effectively**.\n",
    "\n",
    "* **Logistic Regression:**\n",
    "Increasing **density significantly decreases the odds of wine being classified as good quality** (coefficient = -192.359, with a 95% CI of [-260.993, -123.725]). The model explains a **very small amount of the variance** in quality (Pseudo R-squared = 2.19%). The Log-Likelihood difference of 15.91 suggests that the model with density as a predictor provides **only a minimal improvement over a null model**. However, all logistic regression assumptions are met, including the linearity of the relationship between density and the logit of quality.\n",
    "\n",
    "##### Argument for Hypothesis Testing:\n",
    "Given the significant negative coefficients in both linear and logistic regression models, we **reject the null hypothesis** that density has no impact on perceived wine quality **in favor of the alternative hypothesis, which states that density has a negative impact on perceived wine quality**. Both models indicate a meaningful, **though limited**, negative relationship between density and wine quality."
   ]
  },
  {
   "cell_type": "markdown",
   "id": "9572d41e-23d8-433e-85a1-aad726bcbb99",
   "metadata": {},
   "source": [
    "### B.3 Chlorides"
   ]
  },
  {
   "cell_type": "markdown",
   "id": "355264e9-7e36-470f-a8bd-f6d72bae46ef",
   "metadata": {},
   "source": [
    "#### a. Chlorides: Linear regression\n",
    "The following information of the linear regression informs that:\n",
    "* **Slope coefficient is -7.6860** meaning chlorides increase has a negative effect on the wine quality \n",
    "* **Slope coefficient P>|t| (p-value) is higher than 0.05** meaning coefficient is statistically significantly different than 0 thus relationship between chlorides and quality is statistically significant.\n",
    "* **The 95% confidence interval for the coefficient is [-10.008, -5.364]** meaning true coeficient lies in a range which does not include 0 as well.\n",
    "* **R-squared (R²) is 0.039** meaning that only 3.9% of the variance in the quality is explained by the model which includes only chlorides. This is 0.1% more than linear model containing density however the density slope coefficient is 78 points smaller which makes density negatve influence on quality much more noticible than chlorides."
   ]
  },
  {
   "cell_type": "code",
   "execution_count": 185,
   "id": "ca83fd49-3e61-47fb-82c5-954e4e73468e",
   "metadata": {},
   "outputs": [
    {
     "name": "stdout",
     "output_type": "stream",
     "text": [
      "                            OLS Regression Results                            \n",
      "==============================================================================\n",
      "Dep. Variable:                      y   R-squared:                       0.039\n",
      "Model:                            OLS   Adj. R-squared:                  0.038\n",
      "Method:                 Least Squares   F-statistic:                     42.18\n",
      "Date:                Thu, 05 Sep 2024   Prob (F-statistic):           1.28e-10\n",
      "Time:                        16:20:50   Log-Likelihood:                -1264.8\n",
      "No. Observations:                1051   AIC:                             2534.\n",
      "Df Residuals:                    1049   BIC:                             2544.\n",
      "Df Model:                           1                                         \n",
      "Covariance Type:            nonrobust                                         \n",
      "==============================================================================\n",
      "                 coef    std err          t      P>|t|      [0.025      0.975]\n",
      "------------------------------------------------------------------------------\n",
      "const          6.2542      0.099     63.164      0.000       6.060       6.448\n",
      "x1            -7.6860      1.183     -6.495      0.000     -10.008      -5.364\n",
      "==============================================================================\n",
      "Omnibus:                        9.437   Durbin-Watson:                   1.975\n",
      "Prob(Omnibus):                  0.009   Jarque-Bera (JB):                9.881\n",
      "Skew:                           0.186   Prob(JB):                      0.00715\n",
      "Kurtosis:                       3.295   Cond. No.                         47.9\n",
      "==============================================================================\n",
      "\n",
      "Notes:\n",
      "[1] Standard Errors assume that the covariance matrix of the errors is correctly specified.\n"
     ]
    }
   ],
   "source": [
    "x_train_clo = train_df[\"chlorides\"].values.reshape(-1, 1)\n",
    "x_train_clo_with_const = sm.add_constant(x_train_clo)\n",
    "model_clo = sm.OLS(y_train_quality, x_train_clo_with_const)\n",
    "\n",
    "results_clo = model_clo.fit()\n",
    "print(results_clo.summary())"
   ]
  },
  {
   "cell_type": "markdown",
   "id": "433e8244-8859-4d4c-8f5a-a8c6bcde1985",
   "metadata": {},
   "source": [
    "#### b. Linear regression assumptions\n",
    "Unfortunately chlorides linear regression model stands out from the models proving negative effect on quality. Once again 2 out of 4 assumptions fail. </br>\n",
    "Clorides and quality does seem to form a linear relationship and no autocorrelation between residuals is found. However the variance of errors is not constant and residuals are not normally distributed."
   ]
  },
  {
   "cell_type": "code",
   "execution_count": 186,
   "id": "81a8c914-e4b9-4d8b-9481-8d33833f5c47",
   "metadata": {},
   "outputs": [
    {
     "data": {
      "text/html": [
       "<div>\n",
       "<style scoped>\n",
       "    .dataframe tbody tr th:only-of-type {\n",
       "        vertical-align: middle;\n",
       "    }\n",
       "\n",
       "    .dataframe tbody tr th {\n",
       "        vertical-align: top;\n",
       "    }\n",
       "\n",
       "    .dataframe thead th {\n",
       "        text-align: right;\n",
       "    }\n",
       "</style>\n",
       "<table border=\"1\" class=\"dataframe\">\n",
       "  <thead>\n",
       "    <tr style=\"text-align: right;\">\n",
       "      <th></th>\n",
       "      <th>Statistic</th>\n",
       "      <th>p-value</th>\n",
       "      <th>Result</th>\n",
       "      <th>Assumption passed</th>\n",
       "    </tr>\n",
       "    <tr>\n",
       "      <th>Tests</th>\n",
       "      <th></th>\n",
       "      <th></th>\n",
       "      <th></th>\n",
       "      <th></th>\n",
       "    </tr>\n",
       "  </thead>\n",
       "  <tbody>\n",
       "    <tr>\n",
       "      <th>Harvey-Collier Test:</th>\n",
       "      <td>1.097547</td>\n",
       "      <td>0.143439</td>\n",
       "      <td>Relationship is linear</td>\n",
       "      <td>Pass</td>\n",
       "    </tr>\n",
       "    <tr>\n",
       "      <th>Breusch-Pagan Test: LM</th>\n",
       "      <td>3.896740</td>\n",
       "      <td>0.04838</td>\n",
       "      <td>Heteroscedasticity found</td>\n",
       "      <td>Fail</td>\n",
       "    </tr>\n",
       "    <tr>\n",
       "      <th>Breusch-Pagan Test: F</th>\n",
       "      <td>3.903799</td>\n",
       "      <td>0.048439</td>\n",
       "      <td>Heteroscedasticity found</td>\n",
       "      <td>Fail</td>\n",
       "    </tr>\n",
       "    <tr>\n",
       "      <th>Durbin-Watson Test:</th>\n",
       "      <td>1.974592</td>\n",
       "      <td></td>\n",
       "      <td>Autocorrelation not found</td>\n",
       "      <td>Pass</td>\n",
       "    </tr>\n",
       "    <tr>\n",
       "      <th>Kolmogorov-Smirnov Test:</th>\n",
       "      <td>0.133006</td>\n",
       "      <td>0.0</td>\n",
       "      <td>Residuals are non-normally distributed</td>\n",
       "      <td>Fail</td>\n",
       "    </tr>\n",
       "  </tbody>\n",
       "</table>\n",
       "</div>"
      ],
      "text/plain": [
       "                          Statistic   p-value  \\\n",
       "Tests                                           \n",
       "Harvey-Collier Test:       1.097547  0.143439   \n",
       "Breusch-Pagan Test: LM     3.896740   0.04838   \n",
       "Breusch-Pagan Test: F      3.903799  0.048439   \n",
       "Durbin-Watson Test:        1.974592             \n",
       "Kolmogorov-Smirnov Test:   0.133006       0.0   \n",
       "\n",
       "                                                          Result  \\\n",
       "Tests                                                              \n",
       "Harvey-Collier Test:                      Relationship is linear   \n",
       "Breusch-Pagan Test: LM                  Heteroscedasticity found   \n",
       "Breusch-Pagan Test: F                   Heteroscedasticity found   \n",
       "Durbin-Watson Test:                    Autocorrelation not found   \n",
       "Kolmogorov-Smirnov Test:  Residuals are non-normally distributed   \n",
       "\n",
       "                         Assumption passed  \n",
       "Tests                                       \n",
       "Harvey-Collier Test:                  Pass  \n",
       "Breusch-Pagan Test: LM                Fail  \n",
       "Breusch-Pagan Test: F                 Fail  \n",
       "Durbin-Watson Test:                   Pass  \n",
       "Kolmogorov-Smirnov Test:              Fail  "
      ]
     },
     "execution_count": 186,
     "metadata": {},
     "output_type": "execute_result"
    }
   ],
   "source": [
    "df = check_linear_reg_assumptions(results_clo)\n",
    "df"
   ]
  },
  {
   "cell_type": "markdown",
   "id": "60a1d3ee-f1a7-498e-b284-40d8aa5d1614",
   "metadata": {},
   "source": [
    "#### c. Chlorides: Linear model performance on holdout data\n",
    "* **Mean Absolute Error (MAE):** MAE seems to be  very similar when using either training or test data which suggest model is generalizing quite well.\n",
    "* **Mean Squared Error (MSE):** Slightly worse MSE score on holdout data proves as well that model performs well on unseen data.\n",
    "* **Root Mean Squared Error (RMSE):** Nearly identical RMSE score on holdout data again proves that model does not overfit training data.\n",
    "* **R-squared (R²):** Nearly twice worse explanation of quality variance is seen once the holdout data is being used.\n",
    "\n",
    "Overall we may conclude that the linear regression model using sulphates performs consistently on the unseen data and training data, not overfitting the training data and generalizing well. Unfortunately the model is capable to expnain only 1.84% - 3.87% of varinace of quality suggesting that chlorides is not capturing the underlying patterns in the data."
   ]
  },
  {
   "cell_type": "code",
   "execution_count": 187,
   "id": "e5188ffa-fa46-4260-bbf6-4eb38bcc17e9",
   "metadata": {},
   "outputs": [
    {
     "data": {
      "text/html": [
       "<div>\n",
       "<style scoped>\n",
       "    .dataframe tbody tr th:only-of-type {\n",
       "        vertical-align: middle;\n",
       "    }\n",
       "\n",
       "    .dataframe tbody tr th {\n",
       "        vertical-align: top;\n",
       "    }\n",
       "\n",
       "    .dataframe thead th {\n",
       "        text-align: right;\n",
       "    }\n",
       "</style>\n",
       "<table border=\"1\" class=\"dataframe\">\n",
       "  <thead>\n",
       "    <tr style=\"text-align: right;\">\n",
       "      <th></th>\n",
       "      <th>Training data</th>\n",
       "      <th>Holdout data</th>\n",
       "    </tr>\n",
       "  </thead>\n",
       "  <tbody>\n",
       "    <tr>\n",
       "      <th>Mean Absolute Error (MAE)</th>\n",
       "      <td>0.666199</td>\n",
       "      <td>0.675135</td>\n",
       "    </tr>\n",
       "    <tr>\n",
       "      <th>Mean Squared Error (MSE)</th>\n",
       "      <td>0.649889</td>\n",
       "      <td>0.662413</td>\n",
       "    </tr>\n",
       "    <tr>\n",
       "      <th>Root Mean Squared Error (RMSE)</th>\n",
       "      <td>0.806157</td>\n",
       "      <td>0.813887</td>\n",
       "    </tr>\n",
       "    <tr>\n",
       "      <th>R-squared (R²)</th>\n",
       "      <td>0.038656</td>\n",
       "      <td>0.018415</td>\n",
       "    </tr>\n",
       "  </tbody>\n",
       "</table>\n",
       "</div>"
      ],
      "text/plain": [
       "                                Training data  Holdout data\n",
       "Mean Absolute Error (MAE)            0.666199      0.675135\n",
       "Mean Squared Error (MSE)             0.649889      0.662413\n",
       "Root Mean Squared Error (RMSE)       0.806157      0.813887\n",
       "R-squared (R²)                       0.038656      0.018415"
      ]
     },
     "execution_count": 187,
     "metadata": {},
     "output_type": "execute_result"
    }
   ],
   "source": [
    "df = test_holdout_model(\n",
    "    \"chlorides\",\n",
    "    results_clo,\n",
    "    x_train_clo_with_const,\n",
    "    y_train_quality,\n",
    "    holdout_df,\n",
    ")\n",
    "df"
   ]
  },
  {
   "cell_type": "markdown",
   "id": "151249ee-b4ba-4735-97d6-86f315b46fc2",
   "metadata": {},
   "source": [
    "#### d. Chlorides: Logistic regression\n",
    "The logistic regression provides the following summary:\n",
    "* **The x1 coefficient** is -18.6429 suggesting that increasing clorides decreases odds that wine will be classified as good quality\n",
    "* **95% confidence interval** is [-25.172, -12.114] which does not include 0 making the chlorides influence on quality statistically significant\n",
    "* **Pseudo R-squ.:** The value of 0.02443 suggest that logistic regression explains only 2.44% (extremely small amount) of quality variance.\n",
    "* **Log-Likelihood and LL-Null difference** value around 17.75 suggests that model having chlorides predictor does not provide a substantial improvement over the null model."
   ]
  },
  {
   "cell_type": "code",
   "execution_count": 188,
   "id": "cc15bf81-08a8-4fd5-a606-afc2288c9045",
   "metadata": {},
   "outputs": [
    {
     "name": "stdout",
     "output_type": "stream",
     "text": [
      "Optimization terminated successfully.\n",
      "         Current function value: 0.674227\n",
      "         Iterations 5\n",
      "                           Logit Regression Results                           \n",
      "==============================================================================\n",
      "Dep. Variable:                      y   No. Observations:                 1051\n",
      "Model:                          Logit   Df Residuals:                     1049\n",
      "Method:                           MLE   Df Model:                            1\n",
      "Date:                Thu, 05 Sep 2024   Pseudo R-squ.:                 0.02443\n",
      "Time:                        16:20:50   Log-Likelihood:                -708.61\n",
      "converged:                       True   LL-Null:                       -726.36\n",
      "Covariance Type:            nonrobust   LLR p-value:                 2.557e-09\n",
      "==============================================================================\n",
      "                 coef    std err          z      P>|z|      [0.025      0.975]\n",
      "------------------------------------------------------------------------------\n",
      "const          1.6348      0.275      5.940      0.000       1.095       2.174\n",
      "x1           -18.6429      3.331     -5.596      0.000     -25.172     -12.114\n",
      "==============================================================================\n"
     ]
    }
   ],
   "source": [
    "logit_model_clo = sm.Logit(y_train_quality_binary, x_train_clo_with_const)\n",
    "Log_result_clo = logit_model_clo.fit()\n",
    "print(Log_result_clo.summary());"
   ]
  },
  {
   "cell_type": "markdown",
   "id": "0b8ea119-00cc-4b4d-8050-aca49d6c885b",
   "metadata": {},
   "source": [
    "#### e. Logistic regression assumptions\n",
    "Only 2 out of 3 logistic regression assumptions passes. Even though observations are independent since autocorrelation is not found as well as perfect separation is not detected, the relationship between chlorides and logit of quality is non-linear.\r\n",
    "This non-linear relationship means that the current model specification is not capturing the true relationship adequately."
   ]
  },
  {
   "cell_type": "code",
   "execution_count": 189,
   "id": "e59a13e5-ad52-4eb1-965f-8afb4d745d72",
   "metadata": {},
   "outputs": [
    {
     "name": "stdout",
     "output_type": "stream",
     "text": [
      "Optimization terminated successfully.\n",
      "         Current function value: 0.668880\n",
      "         Iterations 5\n"
     ]
    },
    {
     "data": {
      "text/html": [
       "<div>\n",
       "<style scoped>\n",
       "    .dataframe tbody tr th:only-of-type {\n",
       "        vertical-align: middle;\n",
       "    }\n",
       "\n",
       "    .dataframe tbody tr th {\n",
       "        vertical-align: top;\n",
       "    }\n",
       "\n",
       "    .dataframe thead th {\n",
       "        text-align: right;\n",
       "    }\n",
       "</style>\n",
       "<table border=\"1\" class=\"dataframe\">\n",
       "  <thead>\n",
       "    <tr style=\"text-align: right;\">\n",
       "      <th></th>\n",
       "      <th>Statistic</th>\n",
       "      <th>p-value</th>\n",
       "      <th>Result</th>\n",
       "      <th>Assumption pass</th>\n",
       "    </tr>\n",
       "    <tr>\n",
       "      <th>Tests</th>\n",
       "      <th></th>\n",
       "      <th></th>\n",
       "      <th></th>\n",
       "      <th></th>\n",
       "    </tr>\n",
       "  </thead>\n",
       "  <tbody>\n",
       "    <tr>\n",
       "      <th>Durbin-Watson Test:</th>\n",
       "      <td>2.032617</td>\n",
       "      <td></td>\n",
       "      <td>Autocorrelation not found</td>\n",
       "      <td>Pass</td>\n",
       "    </tr>\n",
       "    <tr>\n",
       "      <th>Perfect separation Test:</th>\n",
       "      <td></td>\n",
       "      <td></td>\n",
       "      <td>Perfect separation NOT detected.</td>\n",
       "      <td>Pass</td>\n",
       "    </tr>\n",
       "    <tr>\n",
       "      <th>Box-Tidwell Test:</th>\n",
       "      <td></td>\n",
       "      <td>0.000757</td>\n",
       "      <td>Relationship is non-linear</td>\n",
       "      <td>Fail</td>\n",
       "    </tr>\n",
       "  </tbody>\n",
       "</table>\n",
       "</div>"
      ],
      "text/plain": [
       "                         Statistic   p-value  \\\n",
       "Tests                                          \n",
       "Durbin-Watson Test:       2.032617             \n",
       "Perfect separation Test:                       \n",
       "Box-Tidwell Test:                   0.000757   \n",
       "\n",
       "                                                    Result Assumption pass  \n",
       "Tests                                                                       \n",
       "Durbin-Watson Test:              Autocorrelation not found            Pass  \n",
       "Perfect separation Test:  Perfect separation NOT detected.            Pass  \n",
       "Box-Tidwell Test:               Relationship is non-linear            Fail  "
      ]
     },
     "execution_count": 189,
     "metadata": {},
     "output_type": "execute_result"
    }
   ],
   "source": [
    "df = check_logistic_reg_assumptions(Log_result_clo, train_df, \"chlorides\")\n",
    "df"
   ]
  },
  {
   "cell_type": "markdown",
   "id": "741ace26-29ec-46c6-ae29-16a9cb6462ac",
   "metadata": {},
   "source": [
    "#### f. Summary of clorides impact on quality"
   ]
  },
  {
   "cell_type": "markdown",
   "id": "756d2af0-25d5-4772-b3ec-b887a0adec9e",
   "metadata": {},
   "source": [
    "##### Summary:\n",
    "* **Linear Regression (Chlorides)**:\n",
    "Chlorides have a **significant negative effect on wine quality** (coefficient = -7.6860, p-value < 0.05). The model explains **only 3.9%** of the variance in quality, which is **slightly more than the model with density but much less impactful** due to the smaller slope coefficient. Despite forming a linear relationship and having no autocorrelation, the model fails two key assumptions: the variance of errors is not constant, and residuals are not normally distributed. The model performs **consistently on unseen data**, with similar error metrics across training and test data. However, it only explains 1.84% to 3.87% of the variance in quality, indicating that **chlorides do NOT capture the underlying patterns in the data effectively**.\n",
    "\n",
    "* **Logistic Regression (Chlorides)**:\n",
    "Increasing chlorides **significantly decreases the odds of wine being classified as good quality** (coefficient = -18.6429, with a 95% CI of [-25.172, -12.114]). The model **explains a very small amount of the variance** in quality (Pseudo R-squared = 2.44%). The Log-Likelihood difference of 17.75 suggests that the model with chlorides as a predictor **does NOT provide a substantial improvement over a null model**. Additionally, the logistic regression model fails one assumption: the **relationship** between chlorides and the logit of quality is **non-linear**, indicating that the current model specification **does NOT capture the true relationship adequately**.\n",
    "\n",
    "##### Argument for Hypothesis Testing:\n",
    "Given the significant negative coefficients in both linear and logistic regression models, we **reject the null hypothesis** that chlorides have no impact on perceived wine quality **in favor of the alternative hypothesis**, which states that **chlorides have a negative impact on perceived wine quality**. Despite the low explanatory power, both models indicate a statistically significant negative relationship between chlorides and wine quality."
   ]
  },
  {
   "cell_type": "markdown",
   "id": "d799c9f2-f6c0-4aa4-9ba2-9d9e25ce4e2f",
   "metadata": {},
   "source": [
    "## 5. Conclusions of analysis"
   ]
  },
  {
   "cell_type": "markdown",
   "id": "34c1b4cc-3dcb-4e83-8652-54196d55ce39",
   "metadata": {},
   "source": [
    "#### Feature Selection and Exclusion:\n",
    "* The analysis concentrated on features that consistently demonstrated a meaningful relationship with wine quality. Total sulfur dioxide, despite its initial consideration due to its correlation of -0.18, was excluded from the final models due to its inconsistent pattern across different quality levels. Other features were excluded due to extremely weak correlation and/or unclear pattern of mean values per quality ratio. The focus was instead placed on alcohol, volatile acidity, sulphates, citric acid, density, and chlorides, as these features provided more reliable and interpretable insights into the factors affecting wine quality.\n",
    "\n",
    "#### Positive Impact on Quality:\n",
    "1. Alcohol Content\n",
    "    - **Correlation**: Alcohol content exhibits a moderate positive correlation of 0.49 with wine quality.\n",
    "    - **Linear Model Insights**: It explains approximately 24% of the variance in wine quality, making it a strong predictor.\n",
    "    - **Logistic Model Insights**: Alcohol content significantly increases the odds of a wine being classified as good quality.\n",
    "    - **Assumptions Failed**:\n",
    "      - **Linear Regression**: Failed 2 out of 4 assumptions (Normality of residuals and Heteroscedasticity).\n",
    "      - **Logistic Regression**: Passed all 3 assumptions.\n",
    "    - **Conclusion**: Alcohol content is the most reliable predictor of wine quality, with a significant positive impact. Despite some assumption violations in the linear model, its overall influence remains strong.\n",
    "\n",
    "2. Sulphates\n",
    "    - **Correlation**: Sulphates have a weak positive correlation of 0.31 with wine quality.\n",
    "    - **Linear Model Insights**: Accounts for 10.6% of the variance in quality.\n",
    "    - **Logistic Model Insights**: Shows a positive impact on quality, though the effect is modest.\n",
    "    - **Assumptions Failed**:\n",
    "      - **Linear Regression**: Failed 2 out of 4 assumptions (Normality of residuals and Heteroscedasticity).\n",
    "        - **Logistic Regression**: Failed 1 out of 3 assumptions (Non-linearity with quality logit).\n",
    "      - **Conclusion**: Sulphates have a modest impact on wine quality but are limited by assumption violations in both models. They are a weaker predictor compared to alcohol.\n",
    "\n",
    "3. Citric Acid\n",
    "    - **Correlation**: Citric acid shows a weak positive correlation of 0.24 with wine quality.\n",
    "    - **Linear Model Insights**: Explains about 5.3% of the variance in quality.\n",
    "    - **Logistic Model Insights**: Has a positive effect on the likelihood of good quality classification.\n",
    "    - **Assumptions Failed**:\n",
    "        - **Linear Regression**: Failed 1 out of 4 assumptions (Normality of residuals).\n",
    "        - **Logistic Regression**: Failed 1 out of 3 assumptions (Non-linearity with quality logit)\n",
    "    - **Conclusion**: Citric acid has a weaker influence on wine quality. Its impact is less pronounced, but it still contributes positively.\n",
    "\n",
    "#### Negative Impact on Quality:\n",
    "4. Volatile Acidity\n",
    "    - **Correlation**: Volatile acidity has a moderate negative correlation of -0.39 with wine quality.\n",
    "    - **Linear Model Insights**: Explains 13.6% of the variance, indicating a significant negative impact.\n",
    "    - **Logistic Model Insights**: Significantly decreases the odds of a wine being classified as good quality.\n",
    "    - **Assumptions Failed**:\n",
    "          - **Linear Regression**: Failed 1 out of 4 assumptions (Normality of residuals).\n",
    "          - **Logistic Regression**: Failed 1 out of 3 assumptions (Non-linearity with quality logit)\n",
    "      - **Conclusion**: Volatile acidity is a strong predictor with a notable negative impact on quality. It effectively distinguishes between good and poor quality wines despite some assumption issues in the linear model.\n",
    "5. Density\n",
    "    - **Correlation**: Density shows a very weak negative correlation of -0.19 with wine quality.\n",
    "    - **Linear Model Insights**: Explains only 3.8% of the variance in quality.\n",
    "    - **Logistic Model Insights**: Confirms a very weak negative effect on quality.\n",
    "    - **Assumptions Failed**:\n",
    "        - **Linear Regression**: Failed 1 out of 4 assumptions (Normality of residuals).\n",
    "        - **Logistic Regression**: Passed all 3 assumptions.\n",
    "    - **Conclusion**: Density is a weak predictor of wine quality, with minimal impact and weak correlation.\n",
    "6. Chlorides\n",
    "    - **Correlation**: Chlorides have a very weak negative correlation of -0.19 with wine quality.\n",
    "    - **Linear Model Insights**: Accounts for 3.9% of the variance, indicating a minor negative impact.\n",
    "    - **Logistic Model Insights**: Shows a weak negative effect on quality.\n",
    "    - **Assumptions Failed**:\n",
    "        - **Linear Regression**:Failed 2 out of 4 assumptions (Normality of residuals and Heteroscedasticity).\n",
    "        - **Logistic Regression**: Failed 1 out of 3 assumptions (Non-linearity with quality logit).\n",
    "    - **Conclusion**: Chlorides have a minor role in predicting wine quality. Its weak correlation and limited explanatory power make it less useful compared to other features.\n",
    "\n",
    " \n",
    "\n",
    "#### Final Insights\n",
    "Alcohol content emerges as the strongest predictor of wine quality with a clear positive impact, whereas volatile acidity is the main negative influence. Sulphates and citric acid show some correlation with quality but are less reliable due to violations of key model assumptions, including issues with residual normality and non-linearity. Density and chlorides have minimal relevance due to variance of quality being covered at around 4%. The findings highlight the importance of alcohol and volatile acidity in understanding wine quality while it must be acknowledged that the assumption have been violated as well. In addition since sample ratio mismatch was detected between \"good\" and \"poor\" quality of wines, insights from logistic regression should be taken with caution."
   ]
  },
  {
   "cell_type": "markdown",
   "id": "963901e3-3648-4157-aa21-b724cadc3a4e",
   "metadata": {},
   "source": [
    "## 6. Suggestions for improvement"
   ]
  },
  {
   "cell_type": "markdown",
   "id": "5720d0c1-af05-462c-bbe8-1cd9d75c652d",
   "metadata": {},
   "source": [
    "Here are a few suggestions of further actions to improve analysis:\n",
    "* Investigate why Heteroscedasticity is detected in all of the linear regression models. In addition investigate what changes could be done to mitigate this issue.\n",
    "* Investigate and solve residual non-normal distribution since is the common regression assumption which faied across all models. \n",
    "* Include more wine data to not have sample ratio mismatch between good and poor quality wine.\n",
    "* Include a bigger variety of wines with quality other than 3, 4, 5, 6, 7 or 8.  "
   ]
  },
  {
   "cell_type": "code",
   "execution_count": null,
   "id": "ae2ad682-1279-4dcd-b0f1-d13bd18a4caa",
   "metadata": {},
   "outputs": [],
   "source": []
  }
 ],
 "metadata": {
  "kernelspec": {
   "display_name": "Python 3 (ipykernel)",
   "language": "python",
   "name": "python3"
  },
  "language_info": {
   "codemirror_mode": {
    "name": "ipython",
    "version": 3
   },
   "file_extension": ".py",
   "mimetype": "text/x-python",
   "name": "python",
   "nbconvert_exporter": "python",
   "pygments_lexer": "ipython3",
   "version": "3.11.7"
  }
 },
 "nbformat": 4,
 "nbformat_minor": 5
}
