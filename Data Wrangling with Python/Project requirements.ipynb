{
 "cells": [
  {
   "cell_type": "markdown",
   "id": "9a1239d0-8f02-4372-b307-029e2424d9bb",
   "metadata": {},
   "source": [
    "### Relevant Technical Skills for This Sprint\n",
    "\n",
    "1. Clean Code Principles (PEP8)\n",
    "2. Pandas\n",
    "3. Numpy\n",
    "4. Visualization libraries (Matplotlib, Seaborn, or others)\n",
    "5. Simple Statistical Analysis (basic aggregate analysis)\n",
    "6. Proficient use of Jupyter Notebooks\n",
    "\n",
    "\n",
    "## Objectives for this Part\n",
    "\n",
    "- Practice identifying opportunities for data analysis.\n",
    "- Practice performing EDA.\n",
    "- Practice working with data from Kaggle.\n",
    "- Practice visualizing data with Matplotlib & Seaborn.\n",
    "- Practice reading data, performing queries, and filtering data using Pandas.\n",
    "\n",
    "\n",
    "**COVID-19 crisis**\n",
    "\n",
    "<div><img width=\"400px\" height=\"auto\" src=\"https://images.unsplash.com/photo-1574515944794-d6dedc7150de?ixlib=rb-1.2.1&ixid=MXwxMjA3fDB8MHxwaG90by1wYWdlfHx8fGVufDB8fHw%3D&auto=format&fit=crop&w=1532&q=80\" /></div>\n",
    "\n",
    "The world is still struggling with one of the most rapidly spreading pandemics.\n",
    "There are a lot of people who say that data is the best weapon we can use in this \"Corona Fight.\"\n",
    "\n",
    "Imagine that you are one of the best data scientists in your country.\n",
    "The president of your country asked you to analyze the COVID-19 patient-level data of South Korea and prepare your homeland for the next wave of the pandemic.\n",
    "You, as the lead data scientist of your country **have to create and prove a plan of fighting the pandemics in your country** by analyzing the provided data.\n",
    "You must get the most critical insights using learned data science techniques and present them to the lead of your country.\n",
    "\n",
    "The link to the [Kaggle dataset is here](https://www.kaggle.com/datasets/kimjihoo/coronavirusdataset/).\n",
    "\n",
    "## Requirements\n",
    "\n",
    "- Perform data cleaning and feature engineering. Work with features - handle missing data if needed, use Pandas date APIs, create other additional features.\n",
    "- Perform exploratory data analysis. Describe the data with basic statistical parameters - mean, median, quantiles, etc. Use parameters that give you the most important statistical insights of the data. Grouping the data and analyzing the groups - using Pandas aggregate methods. Visualize the data - you can use line, scatter, histogram plots, density plots, regplots, etc.\n",
    "- Provide clear explanations in your notebook. Your explanations should inform the reader what you are trying to achieve, what results did you get, and what these results mean.\n",
    "- Present the project - the data, methods, and results.\n",
    "- Provide suggestions about how your analysis can be improved.\n",
    "\n",
    "\n",
    "## Evaluation Criteria\n",
    "\n",
    "- Adherence to the requirements. How well did you meet the requirements?\n",
    "- Visualization quality. Did you use charts effectively to visualize patterns in the data? Are your visualizations properly labeled? Did you use colors effectively? Did you adhere to the principle of proportional ink?\n",
    "- Code quality. Was your code well-structured? Did you use the appropriate levels of abstraction? Did you remove commented out and unused code? Did you adhere to the PEP8?\n",
    "- Code performance. Did you use the suitable algorithms and data structures to solve the problems?\n",
    "- Delivery of the presentation. How clear are your reasoning and explanations?\n",
    "- Bonus challenges. Have you put extra effort to do one or more of the bonus challenges (no points will be deducted if you skip them)?"
   ]
  }
 ],
 "metadata": {
  "kernelspec": {
   "display_name": "Python 3",
   "language": "python",
   "name": "python3"
  },
  "language_info": {
   "codemirror_mode": {
    "name": "ipython",
    "version": 3
   },
   "file_extension": ".py",
   "mimetype": "text/x-python",
   "name": "python",
   "nbconvert_exporter": "python",
   "pygments_lexer": "ipython3",
   "version": "3.9.5"
  }
 },
 "nbformat": 4,
 "nbformat_minor": 5
}
